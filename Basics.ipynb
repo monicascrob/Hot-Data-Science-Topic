{
 "cells": [
  {
   "cell_type": "markdown",
   "metadata": {
    "collapsed": true
   },
   "source": [
    "# Guided Project: Popular Data Science Questions\n",
    "\n",
    "Context: \n",
    "\n",
    "We are working for a company that creates data science content, be it books, online articles, videos or interactive text-based platforms like Dataquest. \n",
    "We need to figure out what is best content to write about. \n",
    "\n",
    "The question we are trying to answer is: \"What is it that people want to learn about in data science?\" \n",
    "\n",
    "Some of the resources we can use for this are Stack Overflow and [Stack Exchange](https://stackexchange.com/tour). There are quit a few Stack Exchange websites that are relevant to our goal: \n",
    "- [Data Science](https://datascience.stackexchange.com/)\n",
    "- [Cross Validated](https://stats.stackexchange.com/)\n",
    "- [Artificial Intelligence](https://ai.stackexchange.com/)\n",
    "- [Mathematics](https://math.stackexchange.com/)\n",
    "- [Stack Overflow](https://stackoverflow.com/)\n",
    "- [Database Administrators](https://dba.stackexchange.com/)\n",
    "- [Unix & Linux](https://unix.stackexchange.com/)\n",
    "- [Software Engineering](https://softwareengineering.stackexchange.com/)\n",
    "\n",
    "\n"
   ]
  },
  {
   "cell_type": "markdown",
   "metadata": {},
   "source": [
    "After investigating the website, we decided that we can use tags in categorizing content. We can take a look at the database schema [here](https://data.stackexchange.com/datascience/query/new)."
   ]
  },
  {
   "cell_type": "markdown",
   "metadata": {},
   "source": [
    "Some other tables that might be interesting other than tags:\n",
    "- Posts: includes information about Id, PostTypeId, CreationDate, Score, ViewCount, Tags, AnswerCount, FavoriteCount\n",
    "- Users: includes information about views, upvotes/downvotes, user's reputation score, user's location\n",
    "- Comments: score and content\n",
    "\n",
    "The Posts table includes most of the informaiton we want that shows how popular the post is.\n",
    "We're only interested in recent posts, so we'll limit our analysis to 2019."
   ]
  },
  {
   "cell_type": "markdown",
   "metadata": {},
   "source": [
    "We use this code to get our table:\n",
    "\n",
    "SELECT Id, PostTypeId, CreationDate, Score, \n",
    "       ViewCount, Tags, AnswerCount, FavoriteCount\n",
    "\n",
    "FROM posts\n",
    " \n",
    "WHERE YEAR(CreationDate) = 2019\n",
    "\n",
    "And we stored the information into a csv file: 2019_questions.csv"
   ]
  },
  {
   "cell_type": "markdown",
   "metadata": {},
   "source": [
    "# Read the file into a dataframe"
   ]
  },
  {
   "cell_type": "code",
   "execution_count": 41,
   "metadata": {
    "collapsed": false
   },
   "outputs": [],
   "source": [
    "import pandas as pd\n",
    "import numpy as np\n",
    "\n",
    "import matplotlib.pyplot as plt\n",
    "import seaborn as sns\n",
    "\n",
    "%matplotlib inline\n",
    "\n",
    "questions = pd.read_csv(\"2019_questions.csv\", encoding=\"ISO-8859-1\")"
   ]
  },
  {
   "cell_type": "markdown",
   "metadata": {},
   "source": [
    "# Explore the data"
   ]
  },
  {
   "cell_type": "code",
   "execution_count": 42,
   "metadata": {
    "collapsed": false
   },
   "outputs": [
    {
     "name": "stdout",
     "output_type": "stream",
     "text": [
      "<class 'pandas.core.frame.DataFrame'>\n",
      "RangeIndex: 8839 entries, 0 to 8838\n",
      "Data columns (total 7 columns):\n",
      "Id               8839 non-null int64\n",
      "CreationDate     8839 non-null object\n",
      "Score            8839 non-null int64\n",
      "ViewCount        8839 non-null int64\n",
      "Tags             8839 non-null object\n",
      "AnswerCount      8839 non-null int64\n",
      "FavoriteCount    1407 non-null float64\n",
      "dtypes: float64(1), int64(4), object(2)\n",
      "memory usage: 483.5+ KB\n"
     ]
    }
   ],
   "source": [
    "questions.info()"
   ]
  },
  {
   "cell_type": "code",
   "execution_count": 43,
   "metadata": {
    "collapsed": false
   },
   "outputs": [
    {
     "data": {
      "text/html": [
       "<div>\n",
       "<style scoped>\n",
       "    .dataframe tbody tr th:only-of-type {\n",
       "        vertical-align: middle;\n",
       "    }\n",
       "\n",
       "    .dataframe tbody tr th {\n",
       "        vertical-align: top;\n",
       "    }\n",
       "\n",
       "    .dataframe thead th {\n",
       "        text-align: right;\n",
       "    }\n",
       "</style>\n",
       "<table border=\"1\" class=\"dataframe\">\n",
       "  <thead>\n",
       "    <tr style=\"text-align: right;\">\n",
       "      <th></th>\n",
       "      <th>Id</th>\n",
       "      <th>CreationDate</th>\n",
       "      <th>Score</th>\n",
       "      <th>ViewCount</th>\n",
       "      <th>Tags</th>\n",
       "      <th>AnswerCount</th>\n",
       "      <th>FavoriteCount</th>\n",
       "    </tr>\n",
       "  </thead>\n",
       "  <tbody>\n",
       "    <tr>\n",
       "      <th>0</th>\n",
       "      <td>44419</td>\n",
       "      <td>2019-01-23 09:21:13</td>\n",
       "      <td>1</td>\n",
       "      <td>21</td>\n",
       "      <td>&lt;machine-learning&gt;&lt;data-mining&gt;</td>\n",
       "      <td>0</td>\n",
       "      <td>NaN</td>\n",
       "    </tr>\n",
       "    <tr>\n",
       "      <th>1</th>\n",
       "      <td>44420</td>\n",
       "      <td>2019-01-23 09:34:01</td>\n",
       "      <td>0</td>\n",
       "      <td>25</td>\n",
       "      <td>&lt;machine-learning&gt;&lt;regression&gt;&lt;linear-regressi...</td>\n",
       "      <td>0</td>\n",
       "      <td>NaN</td>\n",
       "    </tr>\n",
       "    <tr>\n",
       "      <th>2</th>\n",
       "      <td>44423</td>\n",
       "      <td>2019-01-23 09:58:41</td>\n",
       "      <td>2</td>\n",
       "      <td>1651</td>\n",
       "      <td>&lt;python&gt;&lt;time-series&gt;&lt;forecast&gt;&lt;forecasting&gt;</td>\n",
       "      <td>0</td>\n",
       "      <td>NaN</td>\n",
       "    </tr>\n",
       "    <tr>\n",
       "      <th>3</th>\n",
       "      <td>44427</td>\n",
       "      <td>2019-01-23 10:57:09</td>\n",
       "      <td>0</td>\n",
       "      <td>55</td>\n",
       "      <td>&lt;machine-learning&gt;&lt;scikit-learn&gt;&lt;pca&gt;</td>\n",
       "      <td>1</td>\n",
       "      <td>NaN</td>\n",
       "    </tr>\n",
       "    <tr>\n",
       "      <th>4</th>\n",
       "      <td>44428</td>\n",
       "      <td>2019-01-23 11:02:15</td>\n",
       "      <td>0</td>\n",
       "      <td>19</td>\n",
       "      <td>&lt;dataset&gt;&lt;bigdata&gt;&lt;data&gt;&lt;speech-to-text&gt;</td>\n",
       "      <td>0</td>\n",
       "      <td>NaN</td>\n",
       "    </tr>\n",
       "  </tbody>\n",
       "</table>\n",
       "</div>"
      ],
      "text/plain": [
       "      Id         CreationDate  Score  ViewCount  \\\n",
       "0  44419  2019-01-23 09:21:13      1         21   \n",
       "1  44420  2019-01-23 09:34:01      0         25   \n",
       "2  44423  2019-01-23 09:58:41      2       1651   \n",
       "3  44427  2019-01-23 10:57:09      0         55   \n",
       "4  44428  2019-01-23 11:02:15      0         19   \n",
       "\n",
       "                                                Tags  AnswerCount  \\\n",
       "0                    <machine-learning><data-mining>            0   \n",
       "1  <machine-learning><regression><linear-regressi...            0   \n",
       "2       <python><time-series><forecast><forecasting>            0   \n",
       "3              <machine-learning><scikit-learn><pca>            1   \n",
       "4           <dataset><bigdata><data><speech-to-text>            0   \n",
       "\n",
       "   FavoriteCount  \n",
       "0            NaN  \n",
       "1            NaN  \n",
       "2            NaN  \n",
       "3            NaN  \n",
       "4            NaN  "
      ]
     },
     "execution_count": 43,
     "metadata": {},
     "output_type": "execute_result"
    }
   ],
   "source": [
    "questions.head()"
   ]
  },
  {
   "cell_type": "markdown",
   "metadata": {},
   "source": [
    "We only have missing values in the FavoriteCount column and we are going to replace those with 0.\n",
    "\n",
    "We should also change the type for some columns:\n",
    "- CreationDate - from object to Datetime\n",
    "- FavoriteCount - from float to int\n",
    "\n",
    "We should also clean the Tags column, get rid of the \"<>\" and separate each tag with \",\"."
   ]
  },
  {
   "cell_type": "markdown",
   "metadata": {},
   "source": [
    "# Replace missing values with 0"
   ]
  },
  {
   "cell_type": "code",
   "execution_count": 44,
   "metadata": {
    "collapsed": true
   },
   "outputs": [],
   "source": [
    "questions[\"FavoriteCount\"].fillna(0, inplace=True)"
   ]
  },
  {
   "cell_type": "code",
   "execution_count": 45,
   "metadata": {
    "collapsed": false
   },
   "outputs": [
    {
     "data": {
      "text/html": [
       "<div>\n",
       "<style scoped>\n",
       "    .dataframe tbody tr th:only-of-type {\n",
       "        vertical-align: middle;\n",
       "    }\n",
       "\n",
       "    .dataframe tbody tr th {\n",
       "        vertical-align: top;\n",
       "    }\n",
       "\n",
       "    .dataframe thead th {\n",
       "        text-align: right;\n",
       "    }\n",
       "</style>\n",
       "<table border=\"1\" class=\"dataframe\">\n",
       "  <thead>\n",
       "    <tr style=\"text-align: right;\">\n",
       "      <th></th>\n",
       "      <th>Id</th>\n",
       "      <th>CreationDate</th>\n",
       "      <th>Score</th>\n",
       "      <th>ViewCount</th>\n",
       "      <th>Tags</th>\n",
       "      <th>AnswerCount</th>\n",
       "      <th>FavoriteCount</th>\n",
       "    </tr>\n",
       "  </thead>\n",
       "  <tbody>\n",
       "    <tr>\n",
       "      <th>0</th>\n",
       "      <td>44419</td>\n",
       "      <td>2019-01-23 09:21:13</td>\n",
       "      <td>1</td>\n",
       "      <td>21</td>\n",
       "      <td>&lt;machine-learning&gt;&lt;data-mining&gt;</td>\n",
       "      <td>0</td>\n",
       "      <td>0.0</td>\n",
       "    </tr>\n",
       "    <tr>\n",
       "      <th>1</th>\n",
       "      <td>44420</td>\n",
       "      <td>2019-01-23 09:34:01</td>\n",
       "      <td>0</td>\n",
       "      <td>25</td>\n",
       "      <td>&lt;machine-learning&gt;&lt;regression&gt;&lt;linear-regressi...</td>\n",
       "      <td>0</td>\n",
       "      <td>0.0</td>\n",
       "    </tr>\n",
       "    <tr>\n",
       "      <th>2</th>\n",
       "      <td>44423</td>\n",
       "      <td>2019-01-23 09:58:41</td>\n",
       "      <td>2</td>\n",
       "      <td>1651</td>\n",
       "      <td>&lt;python&gt;&lt;time-series&gt;&lt;forecast&gt;&lt;forecasting&gt;</td>\n",
       "      <td>0</td>\n",
       "      <td>0.0</td>\n",
       "    </tr>\n",
       "    <tr>\n",
       "      <th>3</th>\n",
       "      <td>44427</td>\n",
       "      <td>2019-01-23 10:57:09</td>\n",
       "      <td>0</td>\n",
       "      <td>55</td>\n",
       "      <td>&lt;machine-learning&gt;&lt;scikit-learn&gt;&lt;pca&gt;</td>\n",
       "      <td>1</td>\n",
       "      <td>0.0</td>\n",
       "    </tr>\n",
       "    <tr>\n",
       "      <th>4</th>\n",
       "      <td>44428</td>\n",
       "      <td>2019-01-23 11:02:15</td>\n",
       "      <td>0</td>\n",
       "      <td>19</td>\n",
       "      <td>&lt;dataset&gt;&lt;bigdata&gt;&lt;data&gt;&lt;speech-to-text&gt;</td>\n",
       "      <td>0</td>\n",
       "      <td>0.0</td>\n",
       "    </tr>\n",
       "  </tbody>\n",
       "</table>\n",
       "</div>"
      ],
      "text/plain": [
       "      Id         CreationDate  Score  ViewCount  \\\n",
       "0  44419  2019-01-23 09:21:13      1         21   \n",
       "1  44420  2019-01-23 09:34:01      0         25   \n",
       "2  44423  2019-01-23 09:58:41      2       1651   \n",
       "3  44427  2019-01-23 10:57:09      0         55   \n",
       "4  44428  2019-01-23 11:02:15      0         19   \n",
       "\n",
       "                                                Tags  AnswerCount  \\\n",
       "0                    <machine-learning><data-mining>            0   \n",
       "1  <machine-learning><regression><linear-regressi...            0   \n",
       "2       <python><time-series><forecast><forecasting>            0   \n",
       "3              <machine-learning><scikit-learn><pca>            1   \n",
       "4           <dataset><bigdata><data><speech-to-text>            0   \n",
       "\n",
       "   FavoriteCount  \n",
       "0            0.0  \n",
       "1            0.0  \n",
       "2            0.0  \n",
       "3            0.0  \n",
       "4            0.0  "
      ]
     },
     "execution_count": 45,
     "metadata": {},
     "output_type": "execute_result"
    }
   ],
   "source": [
    "questions.head()"
   ]
  },
  {
   "cell_type": "markdown",
   "metadata": {},
   "source": [
    "# Change columns' type"
   ]
  },
  {
   "cell_type": "markdown",
   "metadata": {
    "collapsed": true
   },
   "source": [
    "questions[\"CreationDate\"] = pd.to_datetime(questions[\"CreationDate\"])"
   ]
  },
  {
   "cell_type": "code",
   "execution_count": 46,
   "metadata": {
    "collapsed": true
   },
   "outputs": [],
   "source": [
    "questions[\"FavoriteCount\"] = questions[\"FavoriteCount\"].apply(np.int64)"
   ]
  },
  {
   "cell_type": "code",
   "execution_count": 47,
   "metadata": {
    "collapsed": false
   },
   "outputs": [
    {
     "name": "stdout",
     "output_type": "stream",
     "text": [
      "<class 'pandas.core.frame.DataFrame'>\n",
      "RangeIndex: 8839 entries, 0 to 8838\n",
      "Data columns (total 7 columns):\n",
      "Id               8839 non-null int64\n",
      "CreationDate     8839 non-null object\n",
      "Score            8839 non-null int64\n",
      "ViewCount        8839 non-null int64\n",
      "Tags             8839 non-null object\n",
      "AnswerCount      8839 non-null int64\n",
      "FavoriteCount    8839 non-null int64\n",
      "dtypes: int64(5), object(2)\n",
      "memory usage: 483.5+ KB\n"
     ]
    }
   ],
   "source": [
    "questions.info()"
   ]
  },
  {
   "cell_type": "markdown",
   "metadata": {},
   "source": [
    "# Clean Tags column"
   ]
  },
  {
   "cell_type": "code",
   "execution_count": 48,
   "metadata": {
    "collapsed": false
   },
   "outputs": [
    {
     "data": {
      "text/html": [
       "<div>\n",
       "<style scoped>\n",
       "    .dataframe tbody tr th:only-of-type {\n",
       "        vertical-align: middle;\n",
       "    }\n",
       "\n",
       "    .dataframe tbody tr th {\n",
       "        vertical-align: top;\n",
       "    }\n",
       "\n",
       "    .dataframe thead th {\n",
       "        text-align: right;\n",
       "    }\n",
       "</style>\n",
       "<table border=\"1\" class=\"dataframe\">\n",
       "  <thead>\n",
       "    <tr style=\"text-align: right;\">\n",
       "      <th></th>\n",
       "      <th>Id</th>\n",
       "      <th>CreationDate</th>\n",
       "      <th>Score</th>\n",
       "      <th>ViewCount</th>\n",
       "      <th>Tags</th>\n",
       "      <th>AnswerCount</th>\n",
       "      <th>FavoriteCount</th>\n",
       "    </tr>\n",
       "  </thead>\n",
       "  <tbody>\n",
       "    <tr>\n",
       "      <th>0</th>\n",
       "      <td>44419</td>\n",
       "      <td>2019-01-23 09:21:13</td>\n",
       "      <td>1</td>\n",
       "      <td>21</td>\n",
       "      <td>&lt;machine-learning&gt;&lt;data-mining&gt;</td>\n",
       "      <td>0</td>\n",
       "      <td>0</td>\n",
       "    </tr>\n",
       "    <tr>\n",
       "      <th>1</th>\n",
       "      <td>44420</td>\n",
       "      <td>2019-01-23 09:34:01</td>\n",
       "      <td>0</td>\n",
       "      <td>25</td>\n",
       "      <td>&lt;machine-learning&gt;&lt;regression&gt;&lt;linear-regressi...</td>\n",
       "      <td>0</td>\n",
       "      <td>0</td>\n",
       "    </tr>\n",
       "    <tr>\n",
       "      <th>2</th>\n",
       "      <td>44423</td>\n",
       "      <td>2019-01-23 09:58:41</td>\n",
       "      <td>2</td>\n",
       "      <td>1651</td>\n",
       "      <td>&lt;python&gt;&lt;time-series&gt;&lt;forecast&gt;&lt;forecasting&gt;</td>\n",
       "      <td>0</td>\n",
       "      <td>0</td>\n",
       "    </tr>\n",
       "    <tr>\n",
       "      <th>3</th>\n",
       "      <td>44427</td>\n",
       "      <td>2019-01-23 10:57:09</td>\n",
       "      <td>0</td>\n",
       "      <td>55</td>\n",
       "      <td>&lt;machine-learning&gt;&lt;scikit-learn&gt;&lt;pca&gt;</td>\n",
       "      <td>1</td>\n",
       "      <td>0</td>\n",
       "    </tr>\n",
       "    <tr>\n",
       "      <th>4</th>\n",
       "      <td>44428</td>\n",
       "      <td>2019-01-23 11:02:15</td>\n",
       "      <td>0</td>\n",
       "      <td>19</td>\n",
       "      <td>&lt;dataset&gt;&lt;bigdata&gt;&lt;data&gt;&lt;speech-to-text&gt;</td>\n",
       "      <td>0</td>\n",
       "      <td>0</td>\n",
       "    </tr>\n",
       "  </tbody>\n",
       "</table>\n",
       "</div>"
      ],
      "text/plain": [
       "      Id         CreationDate  Score  ViewCount  \\\n",
       "0  44419  2019-01-23 09:21:13      1         21   \n",
       "1  44420  2019-01-23 09:34:01      0         25   \n",
       "2  44423  2019-01-23 09:58:41      2       1651   \n",
       "3  44427  2019-01-23 10:57:09      0         55   \n",
       "4  44428  2019-01-23 11:02:15      0         19   \n",
       "\n",
       "                                                Tags  AnswerCount  \\\n",
       "0                    <machine-learning><data-mining>            0   \n",
       "1  <machine-learning><regression><linear-regressi...            0   \n",
       "2       <python><time-series><forecast><forecasting>            0   \n",
       "3              <machine-learning><scikit-learn><pca>            1   \n",
       "4           <dataset><bigdata><data><speech-to-text>            0   \n",
       "\n",
       "   FavoriteCount  \n",
       "0              0  \n",
       "1              0  \n",
       "2              0  \n",
       "3              0  \n",
       "4              0  "
      ]
     },
     "execution_count": 48,
     "metadata": {},
     "output_type": "execute_result"
    }
   ],
   "source": [
    "questions.head()"
   ]
  },
  {
   "cell_type": "code",
   "execution_count": 49,
   "metadata": {
    "collapsed": false
   },
   "outputs": [
    {
     "data": {
      "text/plain": [
       "array([<class 'str'>], dtype=object)"
      ]
     },
     "execution_count": 49,
     "metadata": {},
     "output_type": "execute_result"
    }
   ],
   "source": [
    "questions[\"Tags\"].apply(lambda value: type(value)).unique()\n"
   ]
  },
  {
   "cell_type": "code",
   "execution_count": 50,
   "metadata": {
    "collapsed": false
   },
   "outputs": [],
   "source": [
    "questions[\"Tags\"] = questions[\"Tags\"].str.replace(\"^<|>$\", \"\").str.split(\"><\")"
   ]
  },
  {
   "cell_type": "code",
   "execution_count": 51,
   "metadata": {
    "collapsed": false
   },
   "outputs": [
    {
     "data": {
      "text/html": [
       "<div>\n",
       "<style scoped>\n",
       "    .dataframe tbody tr th:only-of-type {\n",
       "        vertical-align: middle;\n",
       "    }\n",
       "\n",
       "    .dataframe tbody tr th {\n",
       "        vertical-align: top;\n",
       "    }\n",
       "\n",
       "    .dataframe thead th {\n",
       "        text-align: right;\n",
       "    }\n",
       "</style>\n",
       "<table border=\"1\" class=\"dataframe\">\n",
       "  <thead>\n",
       "    <tr style=\"text-align: right;\">\n",
       "      <th></th>\n",
       "      <th>Id</th>\n",
       "      <th>CreationDate</th>\n",
       "      <th>Score</th>\n",
       "      <th>ViewCount</th>\n",
       "      <th>Tags</th>\n",
       "      <th>AnswerCount</th>\n",
       "      <th>FavoriteCount</th>\n",
       "    </tr>\n",
       "  </thead>\n",
       "  <tbody>\n",
       "    <tr>\n",
       "      <th>0</th>\n",
       "      <td>44419</td>\n",
       "      <td>2019-01-23 09:21:13</td>\n",
       "      <td>1</td>\n",
       "      <td>21</td>\n",
       "      <td>[machine-learning, data-mining]</td>\n",
       "      <td>0</td>\n",
       "      <td>0</td>\n",
       "    </tr>\n",
       "    <tr>\n",
       "      <th>1</th>\n",
       "      <td>44420</td>\n",
       "      <td>2019-01-23 09:34:01</td>\n",
       "      <td>0</td>\n",
       "      <td>25</td>\n",
       "      <td>[machine-learning, regression, linear-regressi...</td>\n",
       "      <td>0</td>\n",
       "      <td>0</td>\n",
       "    </tr>\n",
       "    <tr>\n",
       "      <th>2</th>\n",
       "      <td>44423</td>\n",
       "      <td>2019-01-23 09:58:41</td>\n",
       "      <td>2</td>\n",
       "      <td>1651</td>\n",
       "      <td>[python, time-series, forecast, forecasting]</td>\n",
       "      <td>0</td>\n",
       "      <td>0</td>\n",
       "    </tr>\n",
       "    <tr>\n",
       "      <th>3</th>\n",
       "      <td>44427</td>\n",
       "      <td>2019-01-23 10:57:09</td>\n",
       "      <td>0</td>\n",
       "      <td>55</td>\n",
       "      <td>[machine-learning, scikit-learn, pca]</td>\n",
       "      <td>1</td>\n",
       "      <td>0</td>\n",
       "    </tr>\n",
       "    <tr>\n",
       "      <th>4</th>\n",
       "      <td>44428</td>\n",
       "      <td>2019-01-23 11:02:15</td>\n",
       "      <td>0</td>\n",
       "      <td>19</td>\n",
       "      <td>[dataset, bigdata, data, speech-to-text]</td>\n",
       "      <td>0</td>\n",
       "      <td>0</td>\n",
       "    </tr>\n",
       "  </tbody>\n",
       "</table>\n",
       "</div>"
      ],
      "text/plain": [
       "      Id         CreationDate  Score  ViewCount  \\\n",
       "0  44419  2019-01-23 09:21:13      1         21   \n",
       "1  44420  2019-01-23 09:34:01      0         25   \n",
       "2  44423  2019-01-23 09:58:41      2       1651   \n",
       "3  44427  2019-01-23 10:57:09      0         55   \n",
       "4  44428  2019-01-23 11:02:15      0         19   \n",
       "\n",
       "                                                Tags  AnswerCount  \\\n",
       "0                    [machine-learning, data-mining]            0   \n",
       "1  [machine-learning, regression, linear-regressi...            0   \n",
       "2       [python, time-series, forecast, forecasting]            0   \n",
       "3              [machine-learning, scikit-learn, pca]            1   \n",
       "4           [dataset, bigdata, data, speech-to-text]            0   \n",
       "\n",
       "   FavoriteCount  \n",
       "0              0  \n",
       "1              0  \n",
       "2              0  \n",
       "3              0  \n",
       "4              0  "
      ]
     },
     "execution_count": 51,
     "metadata": {},
     "output_type": "execute_result"
    }
   ],
   "source": [
    "questions.head()"
   ]
  },
  {
   "cell_type": "markdown",
   "metadata": {},
   "source": [
    "# Determine the most popular tags"
   ]
  },
  {
   "cell_type": "markdown",
   "metadata": {},
   "source": [
    "Count how many times each tag was used"
   ]
  },
  {
   "cell_type": "code",
   "execution_count": 52,
   "metadata": {
    "collapsed": false
   },
   "outputs": [
    {
     "data": {
      "text/html": [
       "<div>\n",
       "<style scoped>\n",
       "    .dataframe tbody tr th:only-of-type {\n",
       "        vertical-align: middle;\n",
       "    }\n",
       "\n",
       "    .dataframe tbody tr th {\n",
       "        vertical-align: top;\n",
       "    }\n",
       "\n",
       "    .dataframe thead th {\n",
       "        text-align: right;\n",
       "    }\n",
       "</style>\n",
       "<table border=\"1\" class=\"dataframe\">\n",
       "  <thead>\n",
       "    <tr style=\"text-align: right;\">\n",
       "      <th></th>\n",
       "      <th>Count</th>\n",
       "    </tr>\n",
       "  </thead>\n",
       "  <tbody>\n",
       "    <tr>\n",
       "      <th>convnet</th>\n",
       "      <td>111</td>\n",
       "    </tr>\n",
       "    <tr>\n",
       "      <th>labels</th>\n",
       "      <td>28</td>\n",
       "    </tr>\n",
       "    <tr>\n",
       "      <th>probability</th>\n",
       "      <td>76</td>\n",
       "    </tr>\n",
       "    <tr>\n",
       "      <th>scipy</th>\n",
       "      <td>40</td>\n",
       "    </tr>\n",
       "    <tr>\n",
       "      <th>binary</th>\n",
       "      <td>26</td>\n",
       "    </tr>\n",
       "    <tr>\n",
       "      <th>nlg</th>\n",
       "      <td>9</td>\n",
       "    </tr>\n",
       "    <tr>\n",
       "      <th>finite-precision</th>\n",
       "      <td>2</td>\n",
       "    </tr>\n",
       "    <tr>\n",
       "      <th>label-flipping</th>\n",
       "      <td>1</td>\n",
       "    </tr>\n",
       "    <tr>\n",
       "      <th>bioinformatics</th>\n",
       "      <td>4</td>\n",
       "    </tr>\n",
       "    <tr>\n",
       "      <th>mlp</th>\n",
       "      <td>34</td>\n",
       "    </tr>\n",
       "  </tbody>\n",
       "</table>\n",
       "</div>"
      ],
      "text/plain": [
       "                  Count\n",
       "convnet             111\n",
       "labels               28\n",
       "probability          76\n",
       "scipy                40\n",
       "binary               26\n",
       "nlg                   9\n",
       "finite-precision      2\n",
       "label-flipping        1\n",
       "bioinformatics        4\n",
       "mlp                  34"
      ]
     },
     "execution_count": 52,
     "metadata": {},
     "output_type": "execute_result"
    }
   ],
   "source": [
    "\n",
    "tag_count = dict()\n",
    "\n",
    "for tags in questions[\"Tags\"]:\n",
    "    for tag in tags:\n",
    "        if tag in tag_count:\n",
    "            tag_count[tag] += 1\n",
    "        else:\n",
    "            tag_count[tag] = 1\n",
    "            \n",
    "tag_count = pd.DataFrame.from_dict(tag_count, orient=\"index\")\n",
    "tag_count.rename(columns={0: \"Count\"}, inplace=True)\n",
    "tag_count.head(10)"
   ]
  },
  {
   "cell_type": "markdown",
   "metadata": {},
   "source": [
    "# Most used tags\n",
    "Let's create a plot with top 20 most used tags"
   ]
  },
  {
   "cell_type": "code",
   "execution_count": 53,
   "metadata": {
    "collapsed": false
   },
   "outputs": [
    {
     "data": {
      "text/html": [
       "<div>\n",
       "<style scoped>\n",
       "    .dataframe tbody tr th:only-of-type {\n",
       "        vertical-align: middle;\n",
       "    }\n",
       "\n",
       "    .dataframe tbody tr th {\n",
       "        vertical-align: top;\n",
       "    }\n",
       "\n",
       "    .dataframe thead th {\n",
       "        text-align: right;\n",
       "    }\n",
       "</style>\n",
       "<table border=\"1\" class=\"dataframe\">\n",
       "  <thead>\n",
       "    <tr style=\"text-align: right;\">\n",
       "      <th></th>\n",
       "      <th>Count</th>\n",
       "    </tr>\n",
       "  </thead>\n",
       "  <tbody>\n",
       "    <tr>\n",
       "      <th>machine-learning-model</th>\n",
       "      <td>224</td>\n",
       "    </tr>\n",
       "    <tr>\n",
       "      <th>statistics</th>\n",
       "      <td>234</td>\n",
       "    </tr>\n",
       "    <tr>\n",
       "      <th>clustering</th>\n",
       "      <td>257</td>\n",
       "    </tr>\n",
       "    <tr>\n",
       "      <th>predictive-modeling</th>\n",
       "      <td>265</td>\n",
       "    </tr>\n",
       "    <tr>\n",
       "      <th>r</th>\n",
       "      <td>268</td>\n",
       "    </tr>\n",
       "    <tr>\n",
       "      <th>dataset</th>\n",
       "      <td>340</td>\n",
       "    </tr>\n",
       "    <tr>\n",
       "      <th>regression</th>\n",
       "      <td>347</td>\n",
       "    </tr>\n",
       "    <tr>\n",
       "      <th>pandas</th>\n",
       "      <td>354</td>\n",
       "    </tr>\n",
       "    <tr>\n",
       "      <th>lstm</th>\n",
       "      <td>402</td>\n",
       "    </tr>\n",
       "    <tr>\n",
       "      <th>time-series</th>\n",
       "      <td>466</td>\n",
       "    </tr>\n",
       "    <tr>\n",
       "      <th>cnn</th>\n",
       "      <td>489</td>\n",
       "    </tr>\n",
       "    <tr>\n",
       "      <th>nlp</th>\n",
       "      <td>493</td>\n",
       "    </tr>\n",
       "    <tr>\n",
       "      <th>scikit-learn</th>\n",
       "      <td>540</td>\n",
       "    </tr>\n",
       "    <tr>\n",
       "      <th>tensorflow</th>\n",
       "      <td>584</td>\n",
       "    </tr>\n",
       "    <tr>\n",
       "      <th>classification</th>\n",
       "      <td>685</td>\n",
       "    </tr>\n",
       "    <tr>\n",
       "      <th>keras</th>\n",
       "      <td>935</td>\n",
       "    </tr>\n",
       "    <tr>\n",
       "      <th>neural-network</th>\n",
       "      <td>1055</td>\n",
       "    </tr>\n",
       "    <tr>\n",
       "      <th>deep-learning</th>\n",
       "      <td>1220</td>\n",
       "    </tr>\n",
       "    <tr>\n",
       "      <th>python</th>\n",
       "      <td>1814</td>\n",
       "    </tr>\n",
       "    <tr>\n",
       "      <th>machine-learning</th>\n",
       "      <td>2693</td>\n",
       "    </tr>\n",
       "  </tbody>\n",
       "</table>\n",
       "</div>"
      ],
      "text/plain": [
       "                        Count\n",
       "machine-learning-model    224\n",
       "statistics                234\n",
       "clustering                257\n",
       "predictive-modeling       265\n",
       "r                         268\n",
       "dataset                   340\n",
       "regression                347\n",
       "pandas                    354\n",
       "lstm                      402\n",
       "time-series               466\n",
       "cnn                       489\n",
       "nlp                       493\n",
       "scikit-learn              540\n",
       "tensorflow                584\n",
       "classification            685\n",
       "keras                     935\n",
       "neural-network           1055\n",
       "deep-learning            1220\n",
       "python                   1814\n",
       "machine-learning         2693"
      ]
     },
     "execution_count": 53,
     "metadata": {},
     "output_type": "execute_result"
    }
   ],
   "source": [
    "\n",
    "most_used = tag_count.sort_values(by=\"Count\").tail(20)\n",
    "most_used"
   ]
  },
  {
   "cell_type": "code",
   "execution_count": 54,
   "metadata": {
    "collapsed": false
   },
   "outputs": [
    {
     "data": {
      "text/plain": [
       "<matplotlib.axes._subplots.AxesSubplot at 0x7fb648ed21d0>"
      ]
     },
     "execution_count": 54,
     "metadata": {},
     "output_type": "execute_result"
    },
    {
     "data": {
      "image/png": "[encoded data removed]",
      "text/plain": [
       "<matplotlib.figure.Figure at 0x7fb6492b54a8>"
      ]
     },
     "metadata": {},
     "output_type": "display_data"
    }
   ],
   "source": [
    "most_used.plot(kind=\"barh\", figsize=(16,8))"
   ]
  },
  {
   "cell_type": "markdown",
   "metadata": {
    "collapsed": true
   },
   "source": [
    "# Count how many times each tag was viewed"
   ]
  },
  {
   "cell_type": "code",
   "execution_count": 55,
   "metadata": {
    "collapsed": false
   },
   "outputs": [
    {
     "data": {
      "text/plain": [
       "<matplotlib.axes._subplots.AxesSubplot at 0x7fb649147748>"
      ]
     },
     "execution_count": 55,
     "metadata": {},
     "output_type": "execute_result"
    },
    {
     "data": {
      "image/png": "[encoded data removed]",
      "text/plain": [
       "<matplotlib.figure.Figure at 0x7fb6490a4208>"
      ]
     },
     "metadata": {},
     "output_type": "display_data"
    }
   ],
   "source": [
    "tag_view_count = dict()\n",
    "\n",
    "for index, row in questions.iterrows():\n",
    "    for tag in row['Tags']:\n",
    "        if tag in tag_view_count:\n",
    "            tag_view_count[tag] =+ row['ViewCount']\n",
    "        else:\n",
    "            tag_view_count[tag] = row['ViewCount']\n",
    "\n",
    "tag_view_count = pd.DataFrame.from_dict(tag_view_count, orient = \"index\")\n",
    "tag_view_count.rename(columns={0: \"ViewCount\"}, inplace=True)\n",
    "\n",
    "most_viewed = tag_view_count.sort_values(by=\"ViewCount\").tail(20)\n",
    "most_viewed.plot(kind=\"barh\", figsize=(16,8))\n",
    "\n",
    "            "
   ]
  },
  {
   "cell_type": "markdown",
   "metadata": {
    "collapsed": true
   },
   "source": [
    "# Create a side-by-side visualization"
   ]
  },
  {
   "cell_type": "code",
   "execution_count": 56,
   "metadata": {
    "collapsed": false,
    "scrolled": true
   },
   "outputs": [
    {
     "data": {
      "text/plain": [
       "array([<matplotlib.axes._subplots.AxesSubplot object at 0x7fb648e092e8>],\n",
       "      dtype=object)"
      ]
     },
     "execution_count": 56,
     "metadata": {},
     "output_type": "execute_result"
    },
    {
     "data": {
      "image/png": "[encoded data removed]",
      "text/plain": [
       "<matplotlib.figure.Figure at 0x7fb649101fd0>"
      ]
     },
     "metadata": {},
     "output_type": "display_data"
    }
   ],
   "source": [
    "fig, axes = plt.subplots(nrows=1, ncols=2)\n",
    "fig.set_size_inches((24,10))\n",
    "most_used.plot(kind=\"barh\", ax=axes[0], subplots=True)\n",
    "most_viewed.plot(kind=\"barh\", ax=axes[1], subplots=True)"
   ]
  },
  {
   "cell_type": "markdown",
   "metadata": {},
   "source": [
    "On the left side of the screen, we have the tags count - how many times each of the top 20 tags was used; and on the right, we have the view count of those tags - howmany times each tag was viewed. We can conclude that most top tags are present in both dataframes. "
   ]
  },
  {
   "cell_type": "markdown",
   "metadata": {},
   "source": [
    "# Check what tags are in one, but not in the other"
   ]
  },
  {
   "cell_type": "code",
   "execution_count": 57,
   "metadata": {
    "collapsed": false
   },
   "outputs": [],
   "source": [
    "in_used = pd.merge(most_used, most_viewed, how='left', left_index=True, right_index=True)\n",
    "\n",
    "in_viewed = pd.merge(most_used, most_viewed, how=\"right\", left_index=True, right_index=True)"
   ]
  },
  {
   "cell_type": "markdown",
   "metadata": {},
   "source": [
    "Tags present in most_used, but not in most_viewed:\n",
    "- machine-learning-model\n",
    "- statistics\n",
    "- predictive-modeling\n",
    "- r\n",
    "\n",
    "Tags present in most_viewed, but not in most_used:\n",
    "- csv\n",
    "- pytorch\n",
    "- dataframe"
   ]
  },
  {
   "cell_type": "markdown",
   "metadata": {},
   "source": [
    "# Check how tags are related, find relationships between pair of tags"
   ]
  },
  {
   "cell_type": "markdown",
   "metadata": {},
   "source": [
    "Count how many times each pair appears together and create a dataframe where each row/column represents one tag."
   ]
  },
  {
   "cell_type": "code",
   "execution_count": 58,
   "metadata": {
    "collapsed": true
   },
   "outputs": [],
   "source": [
    "all_tags = list(tag_count.index)"
   ]
  },
  {
   "cell_type": "code",
   "execution_count": 59,
   "metadata": {
    "collapsed": false
   },
   "outputs": [
    {
     "data": {
      "text/html": [
       "<div>\n",
       "<style scoped>\n",
       "    .dataframe tbody tr th:only-of-type {\n",
       "        vertical-align: middle;\n",
       "    }\n",
       "\n",
       "    .dataframe tbody tr th {\n",
       "        vertical-align: top;\n",
       "    }\n",
       "\n",
       "    .dataframe thead th {\n",
       "        text-align: right;\n",
       "    }\n",
       "</style>\n",
       "<table border=\"1\" class=\"dataframe\">\n",
       "  <thead>\n",
       "    <tr style=\"text-align: right;\">\n",
       "      <th></th>\n",
       "      <th>convnet</th>\n",
       "      <th>labels</th>\n",
       "      <th>probability</th>\n",
       "      <th>scipy</th>\n",
       "    </tr>\n",
       "  </thead>\n",
       "  <tbody>\n",
       "    <tr>\n",
       "      <th>convnet</th>\n",
       "      <td>NaN</td>\n",
       "      <td>NaN</td>\n",
       "      <td>NaN</td>\n",
       "      <td>NaN</td>\n",
       "    </tr>\n",
       "    <tr>\n",
       "      <th>labels</th>\n",
       "      <td>NaN</td>\n",
       "      <td>NaN</td>\n",
       "      <td>NaN</td>\n",
       "      <td>NaN</td>\n",
       "    </tr>\n",
       "    <tr>\n",
       "      <th>probability</th>\n",
       "      <td>NaN</td>\n",
       "      <td>NaN</td>\n",
       "      <td>NaN</td>\n",
       "      <td>NaN</td>\n",
       "    </tr>\n",
       "    <tr>\n",
       "      <th>scipy</th>\n",
       "      <td>NaN</td>\n",
       "      <td>NaN</td>\n",
       "      <td>NaN</td>\n",
       "      <td>NaN</td>\n",
       "    </tr>\n",
       "  </tbody>\n",
       "</table>\n",
       "</div>"
      ],
      "text/plain": [
       "            convnet labels probability scipy\n",
       "convnet         NaN    NaN         NaN   NaN\n",
       "labels          NaN    NaN         NaN   NaN\n",
       "probability     NaN    NaN         NaN   NaN\n",
       "scipy           NaN    NaN         NaN   NaN"
      ]
     },
     "execution_count": 59,
     "metadata": {},
     "output_type": "execute_result"
    }
   ],
   "source": [
    "associations = pd.DataFrame(index=all_tags, columns=all_tags)\n",
    "associations.iloc[0:4,0:4]"
   ]
  },
  {
   "cell_type": "markdown",
   "metadata": {},
   "source": [
    "Will fill all rows with 0 at first, and then add 1 ech time we find a relation.\n"
   ]
  },
  {
   "cell_type": "code",
   "execution_count": 60,
   "metadata": {
    "collapsed": true
   },
   "outputs": [],
   "source": [
    "associations.fillna(0, inplace=True)\n",
    "\n",
    "for tags in questions[\"Tags\"]:\n",
    "    associations.loc[tags, tags] += 1"
   ]
  },
  {
   "cell_type": "markdown",
   "metadata": {},
   "source": [
    "Let's take a look at the most used tags."
   ]
  },
  {
   "cell_type": "code",
   "execution_count": 62,
   "metadata": {
    "collapsed": false
   },
   "outputs": [
    {
     "data": {
      "text/html": [
       "<style  type=\"text/css\" >\n",
       "    #T_b6f1a878_e0d2_11ea_bbb1_0242ac110020row0_col0 {\n",
       "            color:  blue;\n",
       "        }    #T_b6f1a878_e0d2_11ea_bbb1_0242ac110020row1_col1 {\n",
       "            color:  blue;\n",
       "        }    #T_b6f1a878_e0d2_11ea_bbb1_0242ac110020row2_col2 {\n",
       "            color:  blue;\n",
       "        }    #T_b6f1a878_e0d2_11ea_bbb1_0242ac110020row3_col3 {\n",
       "            color:  blue;\n",
       "        }    #T_b6f1a878_e0d2_11ea_bbb1_0242ac110020row4_col4 {\n",
       "            color:  blue;\n",
       "        }    #T_b6f1a878_e0d2_11ea_bbb1_0242ac110020row4_col9 {\n",
       "            background-color:  yellow;\n",
       "        }    #T_b6f1a878_e0d2_11ea_bbb1_0242ac110020row5_col5 {\n",
       "            color:  blue;\n",
       "        }    #T_b6f1a878_e0d2_11ea_bbb1_0242ac110020row6_col6 {\n",
       "            color:  blue;\n",
       "        }    #T_b6f1a878_e0d2_11ea_bbb1_0242ac110020row7_col7 {\n",
       "            color:  blue;\n",
       "        }    #T_b6f1a878_e0d2_11ea_bbb1_0242ac110020row8_col8 {\n",
       "            color:  blue;\n",
       "        }    #T_b6f1a878_e0d2_11ea_bbb1_0242ac110020row9_col4 {\n",
       "            background-color:  yellow;\n",
       "        }    #T_b6f1a878_e0d2_11ea_bbb1_0242ac110020row9_col9 {\n",
       "            color:  blue;\n",
       "        }    #T_b6f1a878_e0d2_11ea_bbb1_0242ac110020row10_col10 {\n",
       "            color:  blue;\n",
       "        }    #T_b6f1a878_e0d2_11ea_bbb1_0242ac110020row11_col11 {\n",
       "            color:  blue;\n",
       "        }    #T_b6f1a878_e0d2_11ea_bbb1_0242ac110020row12_col12 {\n",
       "            color:  blue;\n",
       "        }    #T_b6f1a878_e0d2_11ea_bbb1_0242ac110020row13_col13 {\n",
       "            color:  blue;\n",
       "        }    #T_b6f1a878_e0d2_11ea_bbb1_0242ac110020row14_col14 {\n",
       "            color:  blue;\n",
       "        }    #T_b6f1a878_e0d2_11ea_bbb1_0242ac110020row15_col15 {\n",
       "            color:  blue;\n",
       "        }    #T_b6f1a878_e0d2_11ea_bbb1_0242ac110020row16_col16 {\n",
       "            color:  blue;\n",
       "        }    #T_b6f1a878_e0d2_11ea_bbb1_0242ac110020row17_col17 {\n",
       "            color:  blue;\n",
       "        }    #T_b6f1a878_e0d2_11ea_bbb1_0242ac110020row18_col18 {\n",
       "            color:  blue;\n",
       "        }    #T_b6f1a878_e0d2_11ea_bbb1_0242ac110020row19_col19 {\n",
       "            color:  blue;\n",
       "        }</style>  \n",
       "<table id=\"T_b6f1a878_e0d2_11ea_bbb1_0242ac110020\" > \n",
       "<thead>    <tr> \n",
       "        <th class=\"blank level0\" ></th> \n",
       "        <th class=\"col_heading level0 col0\" >machine-learning-model</th> \n",
       "        <th class=\"col_heading level0 col1\" >statistics</th> \n",
       "        <th class=\"col_heading level0 col2\" >clustering</th> \n",
       "        <th class=\"col_heading level0 col3\" >predictive-modeling</th> \n",
       "        <th class=\"col_heading level0 col4\" >r</th> \n",
       "        <th class=\"col_heading level0 col5\" >dataset</th> \n",
       "        <th class=\"col_heading level0 col6\" >regression</th> \n",
       "        <th class=\"col_heading level0 col7\" >pandas</th> \n",
       "        <th class=\"col_heading level0 col8\" >lstm</th> \n",
       "        <th class=\"col_heading level0 col9\" >time-series</th> \n",
       "        <th class=\"col_heading level0 col10\" >cnn</th> \n",
       "        <th class=\"col_heading level0 col11\" >nlp</th> \n",
       "        <th class=\"col_heading level0 col12\" >scikit-learn</th> \n",
       "        <th class=\"col_heading level0 col13\" >tensorflow</th> \n",
       "        <th class=\"col_heading level0 col14\" >classification</th> \n",
       "        <th class=\"col_heading level0 col15\" >keras</th> \n",
       "        <th class=\"col_heading level0 col16\" >neural-network</th> \n",
       "        <th class=\"col_heading level0 col17\" >deep-learning</th> \n",
       "        <th class=\"col_heading level0 col18\" >python</th> \n",
       "        <th class=\"col_heading level0 col19\" >machine-learning</th> \n",
       "    </tr></thead> \n",
       "<tbody>    <tr> \n",
       "        <th id=\"T_b6f1a878_e0d2_11ea_bbb1_0242ac110020level0_row0\" class=\"row_heading level0 row0\" >machine-learning-model</th> \n",
       "        <td id=\"T_b6f1a878_e0d2_11ea_bbb1_0242ac110020row0_col0\" class=\"data row0 col0\" >224</td> \n",
       "        <td id=\"T_b6f1a878_e0d2_11ea_bbb1_0242ac110020row0_col1\" class=\"data row0 col1\" >3</td> \n",
       "        <td id=\"T_b6f1a878_e0d2_11ea_bbb1_0242ac110020row0_col2\" class=\"data row0 col2\" >3</td> \n",
       "        <td id=\"T_b6f1a878_e0d2_11ea_bbb1_0242ac110020row0_col3\" class=\"data row0 col3\" >21</td> \n",
       "        <td id=\"T_b6f1a878_e0d2_11ea_bbb1_0242ac110020row0_col4\" class=\"data row0 col4\" >7</td> \n",
       "        <td id=\"T_b6f1a878_e0d2_11ea_bbb1_0242ac110020row0_col5\" class=\"data row0 col5\" >12</td> \n",
       "        <td id=\"T_b6f1a878_e0d2_11ea_bbb1_0242ac110020row0_col6\" class=\"data row0 col6\" >8</td> \n",
       "        <td id=\"T_b6f1a878_e0d2_11ea_bbb1_0242ac110020row0_col7\" class=\"data row0 col7\" >4</td> \n",
       "        <td id=\"T_b6f1a878_e0d2_11ea_bbb1_0242ac110020row0_col8\" class=\"data row0 col8\" >5</td> \n",
       "        <td id=\"T_b6f1a878_e0d2_11ea_bbb1_0242ac110020row0_col9\" class=\"data row0 col9\" >7</td> \n",
       "        <td id=\"T_b6f1a878_e0d2_11ea_bbb1_0242ac110020row0_col10\" class=\"data row0 col10\" >4</td> \n",
       "        <td id=\"T_b6f1a878_e0d2_11ea_bbb1_0242ac110020row0_col11\" class=\"data row0 col11\" >4</td> \n",
       "        <td id=\"T_b6f1a878_e0d2_11ea_bbb1_0242ac110020row0_col12\" class=\"data row0 col12\" >18</td> \n",
       "        <td id=\"T_b6f1a878_e0d2_11ea_bbb1_0242ac110020row0_col13\" class=\"data row0 col13\" >9</td> \n",
       "        <td id=\"T_b6f1a878_e0d2_11ea_bbb1_0242ac110020row0_col14\" class=\"data row0 col14\" >21</td> \n",
       "        <td id=\"T_b6f1a878_e0d2_11ea_bbb1_0242ac110020row0_col15\" class=\"data row0 col15\" >17</td> \n",
       "        <td id=\"T_b6f1a878_e0d2_11ea_bbb1_0242ac110020row0_col16\" class=\"data row0 col16\" >10</td> \n",
       "        <td id=\"T_b6f1a878_e0d2_11ea_bbb1_0242ac110020row0_col17\" class=\"data row0 col17\" >19</td> \n",
       "        <td id=\"T_b6f1a878_e0d2_11ea_bbb1_0242ac110020row0_col18\" class=\"data row0 col18\" >37</td> \n",
       "        <td id=\"T_b6f1a878_e0d2_11ea_bbb1_0242ac110020row0_col19\" class=\"data row0 col19\" >139</td> \n",
       "    </tr>    <tr> \n",
       "        <th id=\"T_b6f1a878_e0d2_11ea_bbb1_0242ac110020level0_row1\" class=\"row_heading level0 row1\" >statistics</th> \n",
       "        <td id=\"T_b6f1a878_e0d2_11ea_bbb1_0242ac110020row1_col0\" class=\"data row1 col0\" >3</td> \n",
       "        <td id=\"T_b6f1a878_e0d2_11ea_bbb1_0242ac110020row1_col1\" class=\"data row1 col1\" >234</td> \n",
       "        <td id=\"T_b6f1a878_e0d2_11ea_bbb1_0242ac110020row1_col2\" class=\"data row1 col2\" >3</td> \n",
       "        <td id=\"T_b6f1a878_e0d2_11ea_bbb1_0242ac110020row1_col3\" class=\"data row1 col3\" >16</td> \n",
       "        <td id=\"T_b6f1a878_e0d2_11ea_bbb1_0242ac110020row1_col4\" class=\"data row1 col4\" >16</td> \n",
       "        <td id=\"T_b6f1a878_e0d2_11ea_bbb1_0242ac110020row1_col5\" class=\"data row1 col5\" >17</td> \n",
       "        <td id=\"T_b6f1a878_e0d2_11ea_bbb1_0242ac110020row1_col6\" class=\"data row1 col6\" >16</td> \n",
       "        <td id=\"T_b6f1a878_e0d2_11ea_bbb1_0242ac110020row1_col7\" class=\"data row1 col7\" >3</td> \n",
       "        <td id=\"T_b6f1a878_e0d2_11ea_bbb1_0242ac110020row1_col8\" class=\"data row1 col8\" >1</td> \n",
       "        <td id=\"T_b6f1a878_e0d2_11ea_bbb1_0242ac110020row1_col9\" class=\"data row1 col9\" >22</td> \n",
       "        <td id=\"T_b6f1a878_e0d2_11ea_bbb1_0242ac110020row1_col10\" class=\"data row1 col10\" >1</td> \n",
       "        <td id=\"T_b6f1a878_e0d2_11ea_bbb1_0242ac110020row1_col11\" class=\"data row1 col11\" >3</td> \n",
       "        <td id=\"T_b6f1a878_e0d2_11ea_bbb1_0242ac110020row1_col12\" class=\"data row1 col12\" >6</td> \n",
       "        <td id=\"T_b6f1a878_e0d2_11ea_bbb1_0242ac110020row1_col13\" class=\"data row1 col13\" >0</td> \n",
       "        <td id=\"T_b6f1a878_e0d2_11ea_bbb1_0242ac110020row1_col14\" class=\"data row1 col14\" >19</td> \n",
       "        <td id=\"T_b6f1a878_e0d2_11ea_bbb1_0242ac110020row1_col15\" class=\"data row1 col15\" >3</td> \n",
       "        <td id=\"T_b6f1a878_e0d2_11ea_bbb1_0242ac110020row1_col16\" class=\"data row1 col16\" >11</td> \n",
       "        <td id=\"T_b6f1a878_e0d2_11ea_bbb1_0242ac110020row1_col17\" class=\"data row1 col17\" >12</td> \n",
       "        <td id=\"T_b6f1a878_e0d2_11ea_bbb1_0242ac110020row1_col18\" class=\"data row1 col18\" >35</td> \n",
       "        <td id=\"T_b6f1a878_e0d2_11ea_bbb1_0242ac110020row1_col19\" class=\"data row1 col19\" >89</td> \n",
       "    </tr>    <tr> \n",
       "        <th id=\"T_b6f1a878_e0d2_11ea_bbb1_0242ac110020level0_row2\" class=\"row_heading level0 row2\" >clustering</th> \n",
       "        <td id=\"T_b6f1a878_e0d2_11ea_bbb1_0242ac110020row2_col0\" class=\"data row2 col0\" >3</td> \n",
       "        <td id=\"T_b6f1a878_e0d2_11ea_bbb1_0242ac110020row2_col1\" class=\"data row2 col1\" >3</td> \n",
       "        <td id=\"T_b6f1a878_e0d2_11ea_bbb1_0242ac110020row2_col2\" class=\"data row2 col2\" >257</td> \n",
       "        <td id=\"T_b6f1a878_e0d2_11ea_bbb1_0242ac110020row2_col3\" class=\"data row2 col3\" >0</td> \n",
       "        <td id=\"T_b6f1a878_e0d2_11ea_bbb1_0242ac110020row2_col4\" class=\"data row2 col4\" >16</td> \n",
       "        <td id=\"T_b6f1a878_e0d2_11ea_bbb1_0242ac110020row2_col5\" class=\"data row2 col5\" >5</td> \n",
       "        <td id=\"T_b6f1a878_e0d2_11ea_bbb1_0242ac110020row2_col6\" class=\"data row2 col6\" >2</td> \n",
       "        <td id=\"T_b6f1a878_e0d2_11ea_bbb1_0242ac110020row2_col7\" class=\"data row2 col7\" >5</td> \n",
       "        <td id=\"T_b6f1a878_e0d2_11ea_bbb1_0242ac110020row2_col8\" class=\"data row2 col8\" >3</td> \n",
       "        <td id=\"T_b6f1a878_e0d2_11ea_bbb1_0242ac110020row2_col9\" class=\"data row2 col9\" >20</td> \n",
       "        <td id=\"T_b6f1a878_e0d2_11ea_bbb1_0242ac110020row2_col10\" class=\"data row2 col10\" >0</td> \n",
       "        <td id=\"T_b6f1a878_e0d2_11ea_bbb1_0242ac110020row2_col11\" class=\"data row2 col11\" >9</td> \n",
       "        <td id=\"T_b6f1a878_e0d2_11ea_bbb1_0242ac110020row2_col12\" class=\"data row2 col12\" >24</td> \n",
       "        <td id=\"T_b6f1a878_e0d2_11ea_bbb1_0242ac110020row2_col13\" class=\"data row2 col13\" >0</td> \n",
       "        <td id=\"T_b6f1a878_e0d2_11ea_bbb1_0242ac110020row2_col14\" class=\"data row2 col14\" >12</td> \n",
       "        <td id=\"T_b6f1a878_e0d2_11ea_bbb1_0242ac110020row2_col15\" class=\"data row2 col15\" >0</td> \n",
       "        <td id=\"T_b6f1a878_e0d2_11ea_bbb1_0242ac110020row2_col16\" class=\"data row2 col16\" >8</td> \n",
       "        <td id=\"T_b6f1a878_e0d2_11ea_bbb1_0242ac110020row2_col17\" class=\"data row2 col17\" >2</td> \n",
       "        <td id=\"T_b6f1a878_e0d2_11ea_bbb1_0242ac110020row2_col18\" class=\"data row2 col18\" >45</td> \n",
       "        <td id=\"T_b6f1a878_e0d2_11ea_bbb1_0242ac110020row2_col19\" class=\"data row2 col19\" >61</td> \n",
       "    </tr>    <tr> \n",
       "        <th id=\"T_b6f1a878_e0d2_11ea_bbb1_0242ac110020level0_row3\" class=\"row_heading level0 row3\" >predictive-modeling</th> \n",
       "        <td id=\"T_b6f1a878_e0d2_11ea_bbb1_0242ac110020row3_col0\" class=\"data row3 col0\" >21</td> \n",
       "        <td id=\"T_b6f1a878_e0d2_11ea_bbb1_0242ac110020row3_col1\" class=\"data row3 col1\" >16</td> \n",
       "        <td id=\"T_b6f1a878_e0d2_11ea_bbb1_0242ac110020row3_col2\" class=\"data row3 col2\" >0</td> \n",
       "        <td id=\"T_b6f1a878_e0d2_11ea_bbb1_0242ac110020row3_col3\" class=\"data row3 col3\" >265</td> \n",
       "        <td id=\"T_b6f1a878_e0d2_11ea_bbb1_0242ac110020row3_col4\" class=\"data row3 col4\" >13</td> \n",
       "        <td id=\"T_b6f1a878_e0d2_11ea_bbb1_0242ac110020row3_col5\" class=\"data row3 col5\" >7</td> \n",
       "        <td id=\"T_b6f1a878_e0d2_11ea_bbb1_0242ac110020row3_col6\" class=\"data row3 col6\" >28</td> \n",
       "        <td id=\"T_b6f1a878_e0d2_11ea_bbb1_0242ac110020row3_col7\" class=\"data row3 col7\" >4</td> \n",
       "        <td id=\"T_b6f1a878_e0d2_11ea_bbb1_0242ac110020row3_col8\" class=\"data row3 col8\" >13</td> \n",
       "        <td id=\"T_b6f1a878_e0d2_11ea_bbb1_0242ac110020row3_col9\" class=\"data row3 col9\" >31</td> \n",
       "        <td id=\"T_b6f1a878_e0d2_11ea_bbb1_0242ac110020row3_col10\" class=\"data row3 col10\" >6</td> \n",
       "        <td id=\"T_b6f1a878_e0d2_11ea_bbb1_0242ac110020row3_col11\" class=\"data row3 col11\" >1</td> \n",
       "        <td id=\"T_b6f1a878_e0d2_11ea_bbb1_0242ac110020row3_col12\" class=\"data row3 col12\" >12</td> \n",
       "        <td id=\"T_b6f1a878_e0d2_11ea_bbb1_0242ac110020row3_col13\" class=\"data row3 col13\" >6</td> \n",
       "        <td id=\"T_b6f1a878_e0d2_11ea_bbb1_0242ac110020row3_col14\" class=\"data row3 col14\" >27</td> \n",
       "        <td id=\"T_b6f1a878_e0d2_11ea_bbb1_0242ac110020row3_col15\" class=\"data row3 col15\" >11</td> \n",
       "        <td id=\"T_b6f1a878_e0d2_11ea_bbb1_0242ac110020row3_col16\" class=\"data row3 col16\" >13</td> \n",
       "        <td id=\"T_b6f1a878_e0d2_11ea_bbb1_0242ac110020row3_col17\" class=\"data row3 col17\" >32</td> \n",
       "        <td id=\"T_b6f1a878_e0d2_11ea_bbb1_0242ac110020row3_col18\" class=\"data row3 col18\" >35</td> \n",
       "        <td id=\"T_b6f1a878_e0d2_11ea_bbb1_0242ac110020row3_col19\" class=\"data row3 col19\" >123</td> \n",
       "    </tr>    <tr> \n",
       "        <th id=\"T_b6f1a878_e0d2_11ea_bbb1_0242ac110020level0_row4\" class=\"row_heading level0 row4\" >r</th> \n",
       "        <td id=\"T_b6f1a878_e0d2_11ea_bbb1_0242ac110020row4_col0\" class=\"data row4 col0\" >7</td> \n",
       "        <td id=\"T_b6f1a878_e0d2_11ea_bbb1_0242ac110020row4_col1\" class=\"data row4 col1\" >16</td> \n",
       "        <td id=\"T_b6f1a878_e0d2_11ea_bbb1_0242ac110020row4_col2\" class=\"data row4 col2\" >16</td> \n",
       "        <td id=\"T_b6f1a878_e0d2_11ea_bbb1_0242ac110020row4_col3\" class=\"data row4 col3\" >13</td> \n",
       "        <td id=\"T_b6f1a878_e0d2_11ea_bbb1_0242ac110020row4_col4\" class=\"data row4 col4\" >268</td> \n",
       "        <td id=\"T_b6f1a878_e0d2_11ea_bbb1_0242ac110020row4_col5\" class=\"data row4 col5\" >6</td> \n",
       "        <td id=\"T_b6f1a878_e0d2_11ea_bbb1_0242ac110020row4_col6\" class=\"data row4 col6\" >10</td> \n",
       "        <td id=\"T_b6f1a878_e0d2_11ea_bbb1_0242ac110020row4_col7\" class=\"data row4 col7\" >2</td> \n",
       "        <td id=\"T_b6f1a878_e0d2_11ea_bbb1_0242ac110020row4_col8\" class=\"data row4 col8\" >3</td> \n",
       "        <td id=\"T_b6f1a878_e0d2_11ea_bbb1_0242ac110020row4_col9\" class=\"data row4 col9\" >22</td> \n",
       "        <td id=\"T_b6f1a878_e0d2_11ea_bbb1_0242ac110020row4_col10\" class=\"data row4 col10\" >2</td> \n",
       "        <td id=\"T_b6f1a878_e0d2_11ea_bbb1_0242ac110020row4_col11\" class=\"data row4 col11\" >4</td> \n",
       "        <td id=\"T_b6f1a878_e0d2_11ea_bbb1_0242ac110020row4_col12\" class=\"data row4 col12\" >1</td> \n",
       "        <td id=\"T_b6f1a878_e0d2_11ea_bbb1_0242ac110020row4_col13\" class=\"data row4 col13\" >1</td> \n",
       "        <td id=\"T_b6f1a878_e0d2_11ea_bbb1_0242ac110020row4_col14\" class=\"data row4 col14\" >10</td> \n",
       "        <td id=\"T_b6f1a878_e0d2_11ea_bbb1_0242ac110020row4_col15\" class=\"data row4 col15\" >10</td> \n",
       "        <td id=\"T_b6f1a878_e0d2_11ea_bbb1_0242ac110020row4_col16\" class=\"data row4 col16\" >9</td> \n",
       "        <td id=\"T_b6f1a878_e0d2_11ea_bbb1_0242ac110020row4_col17\" class=\"data row4 col17\" >5</td> \n",
       "        <td id=\"T_b6f1a878_e0d2_11ea_bbb1_0242ac110020row4_col18\" class=\"data row4 col18\" >24</td> \n",
       "        <td id=\"T_b6f1a878_e0d2_11ea_bbb1_0242ac110020row4_col19\" class=\"data row4 col19\" >63</td> \n",
       "    </tr>    <tr> \n",
       "        <th id=\"T_b6f1a878_e0d2_11ea_bbb1_0242ac110020level0_row5\" class=\"row_heading level0 row5\" >dataset</th> \n",
       "        <td id=\"T_b6f1a878_e0d2_11ea_bbb1_0242ac110020row5_col0\" class=\"data row5 col0\" >12</td> \n",
       "        <td id=\"T_b6f1a878_e0d2_11ea_bbb1_0242ac110020row5_col1\" class=\"data row5 col1\" >17</td> \n",
       "        <td id=\"T_b6f1a878_e0d2_11ea_bbb1_0242ac110020row5_col2\" class=\"data row5 col2\" >5</td> \n",
       "        <td id=\"T_b6f1a878_e0d2_11ea_bbb1_0242ac110020row5_col3\" class=\"data row5 col3\" >7</td> \n",
       "        <td id=\"T_b6f1a878_e0d2_11ea_bbb1_0242ac110020row5_col4\" class=\"data row5 col4\" >6</td> \n",
       "        <td id=\"T_b6f1a878_e0d2_11ea_bbb1_0242ac110020row5_col5\" class=\"data row5 col5\" >340</td> \n",
       "        <td id=\"T_b6f1a878_e0d2_11ea_bbb1_0242ac110020row5_col6\" class=\"data row5 col6\" >6</td> \n",
       "        <td id=\"T_b6f1a878_e0d2_11ea_bbb1_0242ac110020row5_col7\" class=\"data row5 col7\" >14</td> \n",
       "        <td id=\"T_b6f1a878_e0d2_11ea_bbb1_0242ac110020row5_col8\" class=\"data row5 col8\" >7</td> \n",
       "        <td id=\"T_b6f1a878_e0d2_11ea_bbb1_0242ac110020row5_col9\" class=\"data row5 col9\" >6</td> \n",
       "        <td id=\"T_b6f1a878_e0d2_11ea_bbb1_0242ac110020row5_col10\" class=\"data row5 col10\" >11</td> \n",
       "        <td id=\"T_b6f1a878_e0d2_11ea_bbb1_0242ac110020row5_col11\" class=\"data row5 col11\" >11</td> \n",
       "        <td id=\"T_b6f1a878_e0d2_11ea_bbb1_0242ac110020row5_col12\" class=\"data row5 col12\" >9</td> \n",
       "        <td id=\"T_b6f1a878_e0d2_11ea_bbb1_0242ac110020row5_col13\" class=\"data row5 col13\" >9</td> \n",
       "        <td id=\"T_b6f1a878_e0d2_11ea_bbb1_0242ac110020row5_col14\" class=\"data row5 col14\" >28</td> \n",
       "        <td id=\"T_b6f1a878_e0d2_11ea_bbb1_0242ac110020row5_col15\" class=\"data row5 col15\" >13</td> \n",
       "        <td id=\"T_b6f1a878_e0d2_11ea_bbb1_0242ac110020row5_col16\" class=\"data row5 col16\" >20</td> \n",
       "        <td id=\"T_b6f1a878_e0d2_11ea_bbb1_0242ac110020row5_col17\" class=\"data row5 col17\" >32</td> \n",
       "        <td id=\"T_b6f1a878_e0d2_11ea_bbb1_0242ac110020row5_col18\" class=\"data row5 col18\" >53</td> \n",
       "        <td id=\"T_b6f1a878_e0d2_11ea_bbb1_0242ac110020row5_col19\" class=\"data row5 col19\" >99</td> \n",
       "    </tr>    <tr> \n",
       "        <th id=\"T_b6f1a878_e0d2_11ea_bbb1_0242ac110020level0_row6\" class=\"row_heading level0 row6\" >regression</th> \n",
       "        <td id=\"T_b6f1a878_e0d2_11ea_bbb1_0242ac110020row6_col0\" class=\"data row6 col0\" >8</td> \n",
       "        <td id=\"T_b6f1a878_e0d2_11ea_bbb1_0242ac110020row6_col1\" class=\"data row6 col1\" >16</td> \n",
       "        <td id=\"T_b6f1a878_e0d2_11ea_bbb1_0242ac110020row6_col2\" class=\"data row6 col2\" >2</td> \n",
       "        <td id=\"T_b6f1a878_e0d2_11ea_bbb1_0242ac110020row6_col3\" class=\"data row6 col3\" >28</td> \n",
       "        <td id=\"T_b6f1a878_e0d2_11ea_bbb1_0242ac110020row6_col4\" class=\"data row6 col4\" >10</td> \n",
       "        <td id=\"T_b6f1a878_e0d2_11ea_bbb1_0242ac110020row6_col5\" class=\"data row6 col5\" >6</td> \n",
       "        <td id=\"T_b6f1a878_e0d2_11ea_bbb1_0242ac110020row6_col6\" class=\"data row6 col6\" >347</td> \n",
       "        <td id=\"T_b6f1a878_e0d2_11ea_bbb1_0242ac110020row6_col7\" class=\"data row6 col7\" >6</td> \n",
       "        <td id=\"T_b6f1a878_e0d2_11ea_bbb1_0242ac110020row6_col8\" class=\"data row6 col8\" >11</td> \n",
       "        <td id=\"T_b6f1a878_e0d2_11ea_bbb1_0242ac110020row6_col9\" class=\"data row6 col9\" >24</td> \n",
       "        <td id=\"T_b6f1a878_e0d2_11ea_bbb1_0242ac110020row6_col10\" class=\"data row6 col10\" >6</td> \n",
       "        <td id=\"T_b6f1a878_e0d2_11ea_bbb1_0242ac110020row6_col11\" class=\"data row6 col11\" >2</td> \n",
       "        <td id=\"T_b6f1a878_e0d2_11ea_bbb1_0242ac110020row6_col12\" class=\"data row6 col12\" >37</td> \n",
       "        <td id=\"T_b6f1a878_e0d2_11ea_bbb1_0242ac110020row6_col13\" class=\"data row6 col13\" >9</td> \n",
       "        <td id=\"T_b6f1a878_e0d2_11ea_bbb1_0242ac110020row6_col14\" class=\"data row6 col14\" >34</td> \n",
       "        <td id=\"T_b6f1a878_e0d2_11ea_bbb1_0242ac110020row6_col15\" class=\"data row6 col15\" >31</td> \n",
       "        <td id=\"T_b6f1a878_e0d2_11ea_bbb1_0242ac110020row6_col16\" class=\"data row6 col16\" >42</td> \n",
       "        <td id=\"T_b6f1a878_e0d2_11ea_bbb1_0242ac110020row6_col17\" class=\"data row6 col17\" >21</td> \n",
       "        <td id=\"T_b6f1a878_e0d2_11ea_bbb1_0242ac110020row6_col18\" class=\"data row6 col18\" >59</td> \n",
       "        <td id=\"T_b6f1a878_e0d2_11ea_bbb1_0242ac110020row6_col19\" class=\"data row6 col19\" >119</td> \n",
       "    </tr>    <tr> \n",
       "        <th id=\"T_b6f1a878_e0d2_11ea_bbb1_0242ac110020level0_row7\" class=\"row_heading level0 row7\" >pandas</th> \n",
       "        <td id=\"T_b6f1a878_e0d2_11ea_bbb1_0242ac110020row7_col0\" class=\"data row7 col0\" >4</td> \n",
       "        <td id=\"T_b6f1a878_e0d2_11ea_bbb1_0242ac110020row7_col1\" class=\"data row7 col1\" >3</td> \n",
       "        <td id=\"T_b6f1a878_e0d2_11ea_bbb1_0242ac110020row7_col2\" class=\"data row7 col2\" >5</td> \n",
       "        <td id=\"T_b6f1a878_e0d2_11ea_bbb1_0242ac110020row7_col3\" class=\"data row7 col3\" >4</td> \n",
       "        <td id=\"T_b6f1a878_e0d2_11ea_bbb1_0242ac110020row7_col4\" class=\"data row7 col4\" >2</td> \n",
       "        <td id=\"T_b6f1a878_e0d2_11ea_bbb1_0242ac110020row7_col5\" class=\"data row7 col5\" >14</td> \n",
       "        <td id=\"T_b6f1a878_e0d2_11ea_bbb1_0242ac110020row7_col6\" class=\"data row7 col6\" >6</td> \n",
       "        <td id=\"T_b6f1a878_e0d2_11ea_bbb1_0242ac110020row7_col7\" class=\"data row7 col7\" >354</td> \n",
       "        <td id=\"T_b6f1a878_e0d2_11ea_bbb1_0242ac110020row7_col8\" class=\"data row7 col8\" >7</td> \n",
       "        <td id=\"T_b6f1a878_e0d2_11ea_bbb1_0242ac110020row7_col9\" class=\"data row7 col9\" >19</td> \n",
       "        <td id=\"T_b6f1a878_e0d2_11ea_bbb1_0242ac110020row7_col10\" class=\"data row7 col10\" >1</td> \n",
       "        <td id=\"T_b6f1a878_e0d2_11ea_bbb1_0242ac110020row7_col11\" class=\"data row7 col11\" >3</td> \n",
       "        <td id=\"T_b6f1a878_e0d2_11ea_bbb1_0242ac110020row7_col12\" class=\"data row7 col12\" >37</td> \n",
       "        <td id=\"T_b6f1a878_e0d2_11ea_bbb1_0242ac110020row7_col13\" class=\"data row7 col13\" >3</td> \n",
       "        <td id=\"T_b6f1a878_e0d2_11ea_bbb1_0242ac110020row7_col14\" class=\"data row7 col14\" >3</td> \n",
       "        <td id=\"T_b6f1a878_e0d2_11ea_bbb1_0242ac110020row7_col15\" class=\"data row7 col15\" >3</td> \n",
       "        <td id=\"T_b6f1a878_e0d2_11ea_bbb1_0242ac110020row7_col16\" class=\"data row7 col16\" >1</td> \n",
       "        <td id=\"T_b6f1a878_e0d2_11ea_bbb1_0242ac110020row7_col17\" class=\"data row7 col17\" >1</td> \n",
       "        <td id=\"T_b6f1a878_e0d2_11ea_bbb1_0242ac110020row7_col18\" class=\"data row7 col18\" >244</td> \n",
       "        <td id=\"T_b6f1a878_e0d2_11ea_bbb1_0242ac110020row7_col19\" class=\"data row7 col19\" >62</td> \n",
       "    </tr>    <tr> \n",
       "        <th id=\"T_b6f1a878_e0d2_11ea_bbb1_0242ac110020level0_row8\" class=\"row_heading level0 row8\" >lstm</th> \n",
       "        <td id=\"T_b6f1a878_e0d2_11ea_bbb1_0242ac110020row8_col0\" class=\"data row8 col0\" >5</td> \n",
       "        <td id=\"T_b6f1a878_e0d2_11ea_bbb1_0242ac110020row8_col1\" class=\"data row8 col1\" >1</td> \n",
       "        <td id=\"T_b6f1a878_e0d2_11ea_bbb1_0242ac110020row8_col2\" class=\"data row8 col2\" >3</td> \n",
       "        <td id=\"T_b6f1a878_e0d2_11ea_bbb1_0242ac110020row8_col3\" class=\"data row8 col3\" >13</td> \n",
       "        <td id=\"T_b6f1a878_e0d2_11ea_bbb1_0242ac110020row8_col4\" class=\"data row8 col4\" >3</td> \n",
       "        <td id=\"T_b6f1a878_e0d2_11ea_bbb1_0242ac110020row8_col5\" class=\"data row8 col5\" >7</td> \n",
       "        <td id=\"T_b6f1a878_e0d2_11ea_bbb1_0242ac110020row8_col6\" class=\"data row8 col6\" >11</td> \n",
       "        <td id=\"T_b6f1a878_e0d2_11ea_bbb1_0242ac110020row8_col7\" class=\"data row8 col7\" >7</td> \n",
       "        <td id=\"T_b6f1a878_e0d2_11ea_bbb1_0242ac110020row8_col8\" class=\"data row8 col8\" >402</td> \n",
       "        <td id=\"T_b6f1a878_e0d2_11ea_bbb1_0242ac110020row8_col9\" class=\"data row8 col9\" >87</td> \n",
       "        <td id=\"T_b6f1a878_e0d2_11ea_bbb1_0242ac110020row8_col10\" class=\"data row8 col10\" >24</td> \n",
       "        <td id=\"T_b6f1a878_e0d2_11ea_bbb1_0242ac110020row8_col11\" class=\"data row8 col11\" >19</td> \n",
       "        <td id=\"T_b6f1a878_e0d2_11ea_bbb1_0242ac110020row8_col12\" class=\"data row8 col12\" >2</td> \n",
       "        <td id=\"T_b6f1a878_e0d2_11ea_bbb1_0242ac110020row8_col13\" class=\"data row8 col13\" >43</td> \n",
       "        <td id=\"T_b6f1a878_e0d2_11ea_bbb1_0242ac110020row8_col14\" class=\"data row8 col14\" >20</td> \n",
       "        <td id=\"T_b6f1a878_e0d2_11ea_bbb1_0242ac110020row8_col15\" class=\"data row8 col15\" >133</td> \n",
       "        <td id=\"T_b6f1a878_e0d2_11ea_bbb1_0242ac110020row8_col16\" class=\"data row8 col16\" >69</td> \n",
       "        <td id=\"T_b6f1a878_e0d2_11ea_bbb1_0242ac110020row8_col17\" class=\"data row8 col17\" >103</td> \n",
       "        <td id=\"T_b6f1a878_e0d2_11ea_bbb1_0242ac110020row8_col18\" class=\"data row8 col18\" >61</td> \n",
       "        <td id=\"T_b6f1a878_e0d2_11ea_bbb1_0242ac110020row8_col19\" class=\"data row8 col19\" >71</td> \n",
       "    </tr>    <tr> \n",
       "        <th id=\"T_b6f1a878_e0d2_11ea_bbb1_0242ac110020level0_row9\" class=\"row_heading level0 row9\" >time-series</th> \n",
       "        <td id=\"T_b6f1a878_e0d2_11ea_bbb1_0242ac110020row9_col0\" class=\"data row9 col0\" >7</td> \n",
       "        <td id=\"T_b6f1a878_e0d2_11ea_bbb1_0242ac110020row9_col1\" class=\"data row9 col1\" >22</td> \n",
       "        <td id=\"T_b6f1a878_e0d2_11ea_bbb1_0242ac110020row9_col2\" class=\"data row9 col2\" >20</td> \n",
       "        <td id=\"T_b6f1a878_e0d2_11ea_bbb1_0242ac110020row9_col3\" class=\"data row9 col3\" >31</td> \n",
       "        <td id=\"T_b6f1a878_e0d2_11ea_bbb1_0242ac110020row9_col4\" class=\"data row9 col4\" >22</td> \n",
       "        <td id=\"T_b6f1a878_e0d2_11ea_bbb1_0242ac110020row9_col5\" class=\"data row9 col5\" >6</td> \n",
       "        <td id=\"T_b6f1a878_e0d2_11ea_bbb1_0242ac110020row9_col6\" class=\"data row9 col6\" >24</td> \n",
       "        <td id=\"T_b6f1a878_e0d2_11ea_bbb1_0242ac110020row9_col7\" class=\"data row9 col7\" >19</td> \n",
       "        <td id=\"T_b6f1a878_e0d2_11ea_bbb1_0242ac110020row9_col8\" class=\"data row9 col8\" >87</td> \n",
       "        <td id=\"T_b6f1a878_e0d2_11ea_bbb1_0242ac110020row9_col9\" class=\"data row9 col9\" >466</td> \n",
       "        <td id=\"T_b6f1a878_e0d2_11ea_bbb1_0242ac110020row9_col10\" class=\"data row9 col10\" >8</td> \n",
       "        <td id=\"T_b6f1a878_e0d2_11ea_bbb1_0242ac110020row9_col11\" class=\"data row9 col11\" >0</td> \n",
       "        <td id=\"T_b6f1a878_e0d2_11ea_bbb1_0242ac110020row9_col12\" class=\"data row9 col12\" >12</td> \n",
       "        <td id=\"T_b6f1a878_e0d2_11ea_bbb1_0242ac110020row9_col13\" class=\"data row9 col13\" >9</td> \n",
       "        <td id=\"T_b6f1a878_e0d2_11ea_bbb1_0242ac110020row9_col14\" class=\"data row9 col14\" >25</td> \n",
       "        <td id=\"T_b6f1a878_e0d2_11ea_bbb1_0242ac110020row9_col15\" class=\"data row9 col15\" >51</td> \n",
       "        <td id=\"T_b6f1a878_e0d2_11ea_bbb1_0242ac110020row9_col16\" class=\"data row9 col16\" >33</td> \n",
       "        <td id=\"T_b6f1a878_e0d2_11ea_bbb1_0242ac110020row9_col17\" class=\"data row9 col17\" >44</td> \n",
       "        <td id=\"T_b6f1a878_e0d2_11ea_bbb1_0242ac110020row9_col18\" class=\"data row9 col18\" >105</td> \n",
       "        <td id=\"T_b6f1a878_e0d2_11ea_bbb1_0242ac110020row9_col19\" class=\"data row9 col19\" >131</td> \n",
       "    </tr>    <tr> \n",
       "        <th id=\"T_b6f1a878_e0d2_11ea_bbb1_0242ac110020level0_row10\" class=\"row_heading level0 row10\" >cnn</th> \n",
       "        <td id=\"T_b6f1a878_e0d2_11ea_bbb1_0242ac110020row10_col0\" class=\"data row10 col0\" >4</td> \n",
       "        <td id=\"T_b6f1a878_e0d2_11ea_bbb1_0242ac110020row10_col1\" class=\"data row10 col1\" >1</td> \n",
       "        <td id=\"T_b6f1a878_e0d2_11ea_bbb1_0242ac110020row10_col2\" class=\"data row10 col2\" >0</td> \n",
       "        <td id=\"T_b6f1a878_e0d2_11ea_bbb1_0242ac110020row10_col3\" class=\"data row10 col3\" >6</td> \n",
       "        <td id=\"T_b6f1a878_e0d2_11ea_bbb1_0242ac110020row10_col4\" class=\"data row10 col4\" >2</td> \n",
       "        <td id=\"T_b6f1a878_e0d2_11ea_bbb1_0242ac110020row10_col5\" class=\"data row10 col5\" >11</td> \n",
       "        <td id=\"T_b6f1a878_e0d2_11ea_bbb1_0242ac110020row10_col6\" class=\"data row10 col6\" >6</td> \n",
       "        <td id=\"T_b6f1a878_e0d2_11ea_bbb1_0242ac110020row10_col7\" class=\"data row10 col7\" >1</td> \n",
       "        <td id=\"T_b6f1a878_e0d2_11ea_bbb1_0242ac110020row10_col8\" class=\"data row10 col8\" >24</td> \n",
       "        <td id=\"T_b6f1a878_e0d2_11ea_bbb1_0242ac110020row10_col9\" class=\"data row10 col9\" >8</td> \n",
       "        <td id=\"T_b6f1a878_e0d2_11ea_bbb1_0242ac110020row10_col10\" class=\"data row10 col10\" >489</td> \n",
       "        <td id=\"T_b6f1a878_e0d2_11ea_bbb1_0242ac110020row10_col11\" class=\"data row10 col11\" >7</td> \n",
       "        <td id=\"T_b6f1a878_e0d2_11ea_bbb1_0242ac110020row10_col12\" class=\"data row10 col12\" >0</td> \n",
       "        <td id=\"T_b6f1a878_e0d2_11ea_bbb1_0242ac110020row10_col13\" class=\"data row10 col13\" >57</td> \n",
       "        <td id=\"T_b6f1a878_e0d2_11ea_bbb1_0242ac110020row10_col14\" class=\"data row10 col14\" >20</td> \n",
       "        <td id=\"T_b6f1a878_e0d2_11ea_bbb1_0242ac110020row10_col15\" class=\"data row10 col15\" >116</td> \n",
       "        <td id=\"T_b6f1a878_e0d2_11ea_bbb1_0242ac110020row10_col16\" class=\"data row10 col16\" >118</td> \n",
       "        <td id=\"T_b6f1a878_e0d2_11ea_bbb1_0242ac110020row10_col17\" class=\"data row10 col17\" >160</td> \n",
       "        <td id=\"T_b6f1a878_e0d2_11ea_bbb1_0242ac110020row10_col18\" class=\"data row10 col18\" >62</td> \n",
       "        <td id=\"T_b6f1a878_e0d2_11ea_bbb1_0242ac110020row10_col19\" class=\"data row10 col19\" >124</td> \n",
       "    </tr>    <tr> \n",
       "        <th id=\"T_b6f1a878_e0d2_11ea_bbb1_0242ac110020level0_row11\" class=\"row_heading level0 row11\" >nlp</th> \n",
       "        <td id=\"T_b6f1a878_e0d2_11ea_bbb1_0242ac110020row11_col0\" class=\"data row11 col0\" >4</td> \n",
       "        <td id=\"T_b6f1a878_e0d2_11ea_bbb1_0242ac110020row11_col1\" class=\"data row11 col1\" >3</td> \n",
       "        <td id=\"T_b6f1a878_e0d2_11ea_bbb1_0242ac110020row11_col2\" class=\"data row11 col2\" >9</td> \n",
       "        <td id=\"T_b6f1a878_e0d2_11ea_bbb1_0242ac110020row11_col3\" class=\"data row11 col3\" >1</td> \n",
       "        <td id=\"T_b6f1a878_e0d2_11ea_bbb1_0242ac110020row11_col4\" class=\"data row11 col4\" >4</td> \n",
       "        <td id=\"T_b6f1a878_e0d2_11ea_bbb1_0242ac110020row11_col5\" class=\"data row11 col5\" >11</td> \n",
       "        <td id=\"T_b6f1a878_e0d2_11ea_bbb1_0242ac110020row11_col6\" class=\"data row11 col6\" >2</td> \n",
       "        <td id=\"T_b6f1a878_e0d2_11ea_bbb1_0242ac110020row11_col7\" class=\"data row11 col7\" >3</td> \n",
       "        <td id=\"T_b6f1a878_e0d2_11ea_bbb1_0242ac110020row11_col8\" class=\"data row11 col8\" >19</td> \n",
       "        <td id=\"T_b6f1a878_e0d2_11ea_bbb1_0242ac110020row11_col9\" class=\"data row11 col9\" >0</td> \n",
       "        <td id=\"T_b6f1a878_e0d2_11ea_bbb1_0242ac110020row11_col10\" class=\"data row11 col10\" >7</td> \n",
       "        <td id=\"T_b6f1a878_e0d2_11ea_bbb1_0242ac110020row11_col11\" class=\"data row11 col11\" >493</td> \n",
       "        <td id=\"T_b6f1a878_e0d2_11ea_bbb1_0242ac110020row11_col12\" class=\"data row11 col12\" >12</td> \n",
       "        <td id=\"T_b6f1a878_e0d2_11ea_bbb1_0242ac110020row11_col13\" class=\"data row11 col13\" >11</td> \n",
       "        <td id=\"T_b6f1a878_e0d2_11ea_bbb1_0242ac110020row11_col14\" class=\"data row11 col14\" >35</td> \n",
       "        <td id=\"T_b6f1a878_e0d2_11ea_bbb1_0242ac110020row11_col15\" class=\"data row11 col15\" >23</td> \n",
       "        <td id=\"T_b6f1a878_e0d2_11ea_bbb1_0242ac110020row11_col16\" class=\"data row11 col16\" >24</td> \n",
       "        <td id=\"T_b6f1a878_e0d2_11ea_bbb1_0242ac110020row11_col17\" class=\"data row11 col17\" >72</td> \n",
       "        <td id=\"T_b6f1a878_e0d2_11ea_bbb1_0242ac110020row11_col18\" class=\"data row11 col18\" >71</td> \n",
       "        <td id=\"T_b6f1a878_e0d2_11ea_bbb1_0242ac110020row11_col19\" class=\"data row11 col19\" >113</td> \n",
       "    </tr>    <tr> \n",
       "        <th id=\"T_b6f1a878_e0d2_11ea_bbb1_0242ac110020level0_row12\" class=\"row_heading level0 row12\" >scikit-learn</th> \n",
       "        <td id=\"T_b6f1a878_e0d2_11ea_bbb1_0242ac110020row12_col0\" class=\"data row12 col0\" >18</td> \n",
       "        <td id=\"T_b6f1a878_e0d2_11ea_bbb1_0242ac110020row12_col1\" class=\"data row12 col1\" >6</td> \n",
       "        <td id=\"T_b6f1a878_e0d2_11ea_bbb1_0242ac110020row12_col2\" class=\"data row12 col2\" >24</td> \n",
       "        <td id=\"T_b6f1a878_e0d2_11ea_bbb1_0242ac110020row12_col3\" class=\"data row12 col3\" >12</td> \n",
       "        <td id=\"T_b6f1a878_e0d2_11ea_bbb1_0242ac110020row12_col4\" class=\"data row12 col4\" >1</td> \n",
       "        <td id=\"T_b6f1a878_e0d2_11ea_bbb1_0242ac110020row12_col5\" class=\"data row12 col5\" >9</td> \n",
       "        <td id=\"T_b6f1a878_e0d2_11ea_bbb1_0242ac110020row12_col6\" class=\"data row12 col6\" >37</td> \n",
       "        <td id=\"T_b6f1a878_e0d2_11ea_bbb1_0242ac110020row12_col7\" class=\"data row12 col7\" >37</td> \n",
       "        <td id=\"T_b6f1a878_e0d2_11ea_bbb1_0242ac110020row12_col8\" class=\"data row12 col8\" >2</td> \n",
       "        <td id=\"T_b6f1a878_e0d2_11ea_bbb1_0242ac110020row12_col9\" class=\"data row12 col9\" >12</td> \n",
       "        <td id=\"T_b6f1a878_e0d2_11ea_bbb1_0242ac110020row12_col10\" class=\"data row12 col10\" >0</td> \n",
       "        <td id=\"T_b6f1a878_e0d2_11ea_bbb1_0242ac110020row12_col11\" class=\"data row12 col11\" >12</td> \n",
       "        <td id=\"T_b6f1a878_e0d2_11ea_bbb1_0242ac110020row12_col12\" class=\"data row12 col12\" >540</td> \n",
       "        <td id=\"T_b6f1a878_e0d2_11ea_bbb1_0242ac110020row12_col13\" class=\"data row12 col13\" >15</td> \n",
       "        <td id=\"T_b6f1a878_e0d2_11ea_bbb1_0242ac110020row12_col14\" class=\"data row12 col14\" >47</td> \n",
       "        <td id=\"T_b6f1a878_e0d2_11ea_bbb1_0242ac110020row12_col15\" class=\"data row12 col15\" >34</td> \n",
       "        <td id=\"T_b6f1a878_e0d2_11ea_bbb1_0242ac110020row12_col16\" class=\"data row12 col16\" >24</td> \n",
       "        <td id=\"T_b6f1a878_e0d2_11ea_bbb1_0242ac110020row12_col17\" class=\"data row12 col17\" >16</td> \n",
       "        <td id=\"T_b6f1a878_e0d2_11ea_bbb1_0242ac110020row12_col18\" class=\"data row12 col18\" >235</td> \n",
       "        <td id=\"T_b6f1a878_e0d2_11ea_bbb1_0242ac110020row12_col19\" class=\"data row12 col19\" >188</td> \n",
       "    </tr>    <tr> \n",
       "        <th id=\"T_b6f1a878_e0d2_11ea_bbb1_0242ac110020level0_row13\" class=\"row_heading level0 row13\" >tensorflow</th> \n",
       "        <td id=\"T_b6f1a878_e0d2_11ea_bbb1_0242ac110020row13_col0\" class=\"data row13 col0\" >9</td> \n",
       "        <td id=\"T_b6f1a878_e0d2_11ea_bbb1_0242ac110020row13_col1\" class=\"data row13 col1\" >0</td> \n",
       "        <td id=\"T_b6f1a878_e0d2_11ea_bbb1_0242ac110020row13_col2\" class=\"data row13 col2\" >0</td> \n",
       "        <td id=\"T_b6f1a878_e0d2_11ea_bbb1_0242ac110020row13_col3\" class=\"data row13 col3\" >6</td> \n",
       "        <td id=\"T_b6f1a878_e0d2_11ea_bbb1_0242ac110020row13_col4\" class=\"data row13 col4\" >1</td> \n",
       "        <td id=\"T_b6f1a878_e0d2_11ea_bbb1_0242ac110020row13_col5\" class=\"data row13 col5\" >9</td> \n",
       "        <td id=\"T_b6f1a878_e0d2_11ea_bbb1_0242ac110020row13_col6\" class=\"data row13 col6\" >9</td> \n",
       "        <td id=\"T_b6f1a878_e0d2_11ea_bbb1_0242ac110020row13_col7\" class=\"data row13 col7\" >3</td> \n",
       "        <td id=\"T_b6f1a878_e0d2_11ea_bbb1_0242ac110020row13_col8\" class=\"data row13 col8\" >43</td> \n",
       "        <td id=\"T_b6f1a878_e0d2_11ea_bbb1_0242ac110020row13_col9\" class=\"data row13 col9\" >9</td> \n",
       "        <td id=\"T_b6f1a878_e0d2_11ea_bbb1_0242ac110020row13_col10\" class=\"data row13 col10\" >57</td> \n",
       "        <td id=\"T_b6f1a878_e0d2_11ea_bbb1_0242ac110020row13_col11\" class=\"data row13 col11\" >11</td> \n",
       "        <td id=\"T_b6f1a878_e0d2_11ea_bbb1_0242ac110020row13_col12\" class=\"data row13 col12\" >15</td> \n",
       "        <td id=\"T_b6f1a878_e0d2_11ea_bbb1_0242ac110020row13_col13\" class=\"data row13 col13\" >584</td> \n",
       "        <td id=\"T_b6f1a878_e0d2_11ea_bbb1_0242ac110020row13_col14\" class=\"data row13 col14\" >20</td> \n",
       "        <td id=\"T_b6f1a878_e0d2_11ea_bbb1_0242ac110020row13_col15\" class=\"data row13 col15\" >256</td> \n",
       "        <td id=\"T_b6f1a878_e0d2_11ea_bbb1_0242ac110020row13_col16\" class=\"data row13 col16\" >108</td> \n",
       "        <td id=\"T_b6f1a878_e0d2_11ea_bbb1_0242ac110020row13_col17\" class=\"data row13 col17\" >136</td> \n",
       "        <td id=\"T_b6f1a878_e0d2_11ea_bbb1_0242ac110020row13_col18\" class=\"data row13 col18\" >167</td> \n",
       "        <td id=\"T_b6f1a878_e0d2_11ea_bbb1_0242ac110020row13_col19\" class=\"data row13 col19\" >106</td> \n",
       "    </tr>    <tr> \n",
       "        <th id=\"T_b6f1a878_e0d2_11ea_bbb1_0242ac110020level0_row14\" class=\"row_heading level0 row14\" >classification</th> \n",
       "        <td id=\"T_b6f1a878_e0d2_11ea_bbb1_0242ac110020row14_col0\" class=\"data row14 col0\" >21</td> \n",
       "        <td id=\"T_b6f1a878_e0d2_11ea_bbb1_0242ac110020row14_col1\" class=\"data row14 col1\" >19</td> \n",
       "        <td id=\"T_b6f1a878_e0d2_11ea_bbb1_0242ac110020row14_col2\" class=\"data row14 col2\" >12</td> \n",
       "        <td id=\"T_b6f1a878_e0d2_11ea_bbb1_0242ac110020row14_col3\" class=\"data row14 col3\" >27</td> \n",
       "        <td id=\"T_b6f1a878_e0d2_11ea_bbb1_0242ac110020row14_col4\" class=\"data row14 col4\" >10</td> \n",
       "        <td id=\"T_b6f1a878_e0d2_11ea_bbb1_0242ac110020row14_col5\" class=\"data row14 col5\" >28</td> \n",
       "        <td id=\"T_b6f1a878_e0d2_11ea_bbb1_0242ac110020row14_col6\" class=\"data row14 col6\" >34</td> \n",
       "        <td id=\"T_b6f1a878_e0d2_11ea_bbb1_0242ac110020row14_col7\" class=\"data row14 col7\" >3</td> \n",
       "        <td id=\"T_b6f1a878_e0d2_11ea_bbb1_0242ac110020row14_col8\" class=\"data row14 col8\" >20</td> \n",
       "        <td id=\"T_b6f1a878_e0d2_11ea_bbb1_0242ac110020row14_col9\" class=\"data row14 col9\" >25</td> \n",
       "        <td id=\"T_b6f1a878_e0d2_11ea_bbb1_0242ac110020row14_col10\" class=\"data row14 col10\" >20</td> \n",
       "        <td id=\"T_b6f1a878_e0d2_11ea_bbb1_0242ac110020row14_col11\" class=\"data row14 col11\" >35</td> \n",
       "        <td id=\"T_b6f1a878_e0d2_11ea_bbb1_0242ac110020row14_col12\" class=\"data row14 col12\" >47</td> \n",
       "        <td id=\"T_b6f1a878_e0d2_11ea_bbb1_0242ac110020row14_col13\" class=\"data row14 col13\" >20</td> \n",
       "        <td id=\"T_b6f1a878_e0d2_11ea_bbb1_0242ac110020row14_col14\" class=\"data row14 col14\" >685</td> \n",
       "        <td id=\"T_b6f1a878_e0d2_11ea_bbb1_0242ac110020row14_col15\" class=\"data row14 col15\" >58</td> \n",
       "        <td id=\"T_b6f1a878_e0d2_11ea_bbb1_0242ac110020row14_col16\" class=\"data row14 col16\" >65</td> \n",
       "        <td id=\"T_b6f1a878_e0d2_11ea_bbb1_0242ac110020row14_col17\" class=\"data row14 col17\" >59</td> \n",
       "        <td id=\"T_b6f1a878_e0d2_11ea_bbb1_0242ac110020row14_col18\" class=\"data row14 col18\" >98</td> \n",
       "        <td id=\"T_b6f1a878_e0d2_11ea_bbb1_0242ac110020row14_col19\" class=\"data row14 col19\" >259</td> \n",
       "    </tr>    <tr> \n",
       "        <th id=\"T_b6f1a878_e0d2_11ea_bbb1_0242ac110020level0_row15\" class=\"row_heading level0 row15\" >keras</th> \n",
       "        <td id=\"T_b6f1a878_e0d2_11ea_bbb1_0242ac110020row15_col0\" class=\"data row15 col0\" >17</td> \n",
       "        <td id=\"T_b6f1a878_e0d2_11ea_bbb1_0242ac110020row15_col1\" class=\"data row15 col1\" >3</td> \n",
       "        <td id=\"T_b6f1a878_e0d2_11ea_bbb1_0242ac110020row15_col2\" class=\"data row15 col2\" >0</td> \n",
       "        <td id=\"T_b6f1a878_e0d2_11ea_bbb1_0242ac110020row15_col3\" class=\"data row15 col3\" >11</td> \n",
       "        <td id=\"T_b6f1a878_e0d2_11ea_bbb1_0242ac110020row15_col4\" class=\"data row15 col4\" >10</td> \n",
       "        <td id=\"T_b6f1a878_e0d2_11ea_bbb1_0242ac110020row15_col5\" class=\"data row15 col5\" >13</td> \n",
       "        <td id=\"T_b6f1a878_e0d2_11ea_bbb1_0242ac110020row15_col6\" class=\"data row15 col6\" >31</td> \n",
       "        <td id=\"T_b6f1a878_e0d2_11ea_bbb1_0242ac110020row15_col7\" class=\"data row15 col7\" >3</td> \n",
       "        <td id=\"T_b6f1a878_e0d2_11ea_bbb1_0242ac110020row15_col8\" class=\"data row15 col8\" >133</td> \n",
       "        <td id=\"T_b6f1a878_e0d2_11ea_bbb1_0242ac110020row15_col9\" class=\"data row15 col9\" >51</td> \n",
       "        <td id=\"T_b6f1a878_e0d2_11ea_bbb1_0242ac110020row15_col10\" class=\"data row15 col10\" >116</td> \n",
       "        <td id=\"T_b6f1a878_e0d2_11ea_bbb1_0242ac110020row15_col11\" class=\"data row15 col11\" >23</td> \n",
       "        <td id=\"T_b6f1a878_e0d2_11ea_bbb1_0242ac110020row15_col12\" class=\"data row15 col12\" >34</td> \n",
       "        <td id=\"T_b6f1a878_e0d2_11ea_bbb1_0242ac110020row15_col13\" class=\"data row15 col13\" >256</td> \n",
       "        <td id=\"T_b6f1a878_e0d2_11ea_bbb1_0242ac110020row15_col14\" class=\"data row15 col14\" >58</td> \n",
       "        <td id=\"T_b6f1a878_e0d2_11ea_bbb1_0242ac110020row15_col15\" class=\"data row15 col15\" >935</td> \n",
       "        <td id=\"T_b6f1a878_e0d2_11ea_bbb1_0242ac110020row15_col16\" class=\"data row15 col16\" >235</td> \n",
       "        <td id=\"T_b6f1a878_e0d2_11ea_bbb1_0242ac110020row15_col17\" class=\"data row15 col17\" >247</td> \n",
       "        <td id=\"T_b6f1a878_e0d2_11ea_bbb1_0242ac110020row15_col18\" class=\"data row15 col18\" >280</td> \n",
       "        <td id=\"T_b6f1a878_e0d2_11ea_bbb1_0242ac110020row15_col19\" class=\"data row15 col19\" >195</td> \n",
       "    </tr>    <tr> \n",
       "        <th id=\"T_b6f1a878_e0d2_11ea_bbb1_0242ac110020level0_row16\" class=\"row_heading level0 row16\" >neural-network</th> \n",
       "        <td id=\"T_b6f1a878_e0d2_11ea_bbb1_0242ac110020row16_col0\" class=\"data row16 col0\" >10</td> \n",
       "        <td id=\"T_b6f1a878_e0d2_11ea_bbb1_0242ac110020row16_col1\" class=\"data row16 col1\" >11</td> \n",
       "        <td id=\"T_b6f1a878_e0d2_11ea_bbb1_0242ac110020row16_col2\" class=\"data row16 col2\" >8</td> \n",
       "        <td id=\"T_b6f1a878_e0d2_11ea_bbb1_0242ac110020row16_col3\" class=\"data row16 col3\" >13</td> \n",
       "        <td id=\"T_b6f1a878_e0d2_11ea_bbb1_0242ac110020row16_col4\" class=\"data row16 col4\" >9</td> \n",
       "        <td id=\"T_b6f1a878_e0d2_11ea_bbb1_0242ac110020row16_col5\" class=\"data row16 col5\" >20</td> \n",
       "        <td id=\"T_b6f1a878_e0d2_11ea_bbb1_0242ac110020row16_col6\" class=\"data row16 col6\" >42</td> \n",
       "        <td id=\"T_b6f1a878_e0d2_11ea_bbb1_0242ac110020row16_col7\" class=\"data row16 col7\" >1</td> \n",
       "        <td id=\"T_b6f1a878_e0d2_11ea_bbb1_0242ac110020row16_col8\" class=\"data row16 col8\" >69</td> \n",
       "        <td id=\"T_b6f1a878_e0d2_11ea_bbb1_0242ac110020row16_col9\" class=\"data row16 col9\" >33</td> \n",
       "        <td id=\"T_b6f1a878_e0d2_11ea_bbb1_0242ac110020row16_col10\" class=\"data row16 col10\" >118</td> \n",
       "        <td id=\"T_b6f1a878_e0d2_11ea_bbb1_0242ac110020row16_col11\" class=\"data row16 col11\" >24</td> \n",
       "        <td id=\"T_b6f1a878_e0d2_11ea_bbb1_0242ac110020row16_col12\" class=\"data row16 col12\" >24</td> \n",
       "        <td id=\"T_b6f1a878_e0d2_11ea_bbb1_0242ac110020row16_col13\" class=\"data row16 col13\" >108</td> \n",
       "        <td id=\"T_b6f1a878_e0d2_11ea_bbb1_0242ac110020row16_col14\" class=\"data row16 col14\" >65</td> \n",
       "        <td id=\"T_b6f1a878_e0d2_11ea_bbb1_0242ac110020row16_col15\" class=\"data row16 col15\" >235</td> \n",
       "        <td id=\"T_b6f1a878_e0d2_11ea_bbb1_0242ac110020row16_col16\" class=\"data row16 col16\" >1055</td> \n",
       "        <td id=\"T_b6f1a878_e0d2_11ea_bbb1_0242ac110020row16_col17\" class=\"data row16 col17\" >305</td> \n",
       "        <td id=\"T_b6f1a878_e0d2_11ea_bbb1_0242ac110020row16_col18\" class=\"data row16 col18\" >137</td> \n",
       "        <td id=\"T_b6f1a878_e0d2_11ea_bbb1_0242ac110020row16_col19\" class=\"data row16 col19\" >366</td> \n",
       "    </tr>    <tr> \n",
       "        <th id=\"T_b6f1a878_e0d2_11ea_bbb1_0242ac110020level0_row17\" class=\"row_heading level0 row17\" >deep-learning</th> \n",
       "        <td id=\"T_b6f1a878_e0d2_11ea_bbb1_0242ac110020row17_col0\" class=\"data row17 col0\" >19</td> \n",
       "        <td id=\"T_b6f1a878_e0d2_11ea_bbb1_0242ac110020row17_col1\" class=\"data row17 col1\" >12</td> \n",
       "        <td id=\"T_b6f1a878_e0d2_11ea_bbb1_0242ac110020row17_col2\" class=\"data row17 col2\" >2</td> \n",
       "        <td id=\"T_b6f1a878_e0d2_11ea_bbb1_0242ac110020row17_col3\" class=\"data row17 col3\" >32</td> \n",
       "        <td id=\"T_b6f1a878_e0d2_11ea_bbb1_0242ac110020row17_col4\" class=\"data row17 col4\" >5</td> \n",
       "        <td id=\"T_b6f1a878_e0d2_11ea_bbb1_0242ac110020row17_col5\" class=\"data row17 col5\" >32</td> \n",
       "        <td id=\"T_b6f1a878_e0d2_11ea_bbb1_0242ac110020row17_col6\" class=\"data row17 col6\" >21</td> \n",
       "        <td id=\"T_b6f1a878_e0d2_11ea_bbb1_0242ac110020row17_col7\" class=\"data row17 col7\" >1</td> \n",
       "        <td id=\"T_b6f1a878_e0d2_11ea_bbb1_0242ac110020row17_col8\" class=\"data row17 col8\" >103</td> \n",
       "        <td id=\"T_b6f1a878_e0d2_11ea_bbb1_0242ac110020row17_col9\" class=\"data row17 col9\" >44</td> \n",
       "        <td id=\"T_b6f1a878_e0d2_11ea_bbb1_0242ac110020row17_col10\" class=\"data row17 col10\" >160</td> \n",
       "        <td id=\"T_b6f1a878_e0d2_11ea_bbb1_0242ac110020row17_col11\" class=\"data row17 col11\" >72</td> \n",
       "        <td id=\"T_b6f1a878_e0d2_11ea_bbb1_0242ac110020row17_col12\" class=\"data row17 col12\" >16</td> \n",
       "        <td id=\"T_b6f1a878_e0d2_11ea_bbb1_0242ac110020row17_col13\" class=\"data row17 col13\" >136</td> \n",
       "        <td id=\"T_b6f1a878_e0d2_11ea_bbb1_0242ac110020row17_col14\" class=\"data row17 col14\" >59</td> \n",
       "        <td id=\"T_b6f1a878_e0d2_11ea_bbb1_0242ac110020row17_col15\" class=\"data row17 col15\" >247</td> \n",
       "        <td id=\"T_b6f1a878_e0d2_11ea_bbb1_0242ac110020row17_col16\" class=\"data row17 col16\" >305</td> \n",
       "        <td id=\"T_b6f1a878_e0d2_11ea_bbb1_0242ac110020row17_col17\" class=\"data row17 col17\" >1220</td> \n",
       "        <td id=\"T_b6f1a878_e0d2_11ea_bbb1_0242ac110020row17_col18\" class=\"data row17 col18\" >160</td> \n",
       "        <td id=\"T_b6f1a878_e0d2_11ea_bbb1_0242ac110020row17_col19\" class=\"data row17 col19\" >429</td> \n",
       "    </tr>    <tr> \n",
       "        <th id=\"T_b6f1a878_e0d2_11ea_bbb1_0242ac110020level0_row18\" class=\"row_heading level0 row18\" >python</th> \n",
       "        <td id=\"T_b6f1a878_e0d2_11ea_bbb1_0242ac110020row18_col0\" class=\"data row18 col0\" >37</td> \n",
       "        <td id=\"T_b6f1a878_e0d2_11ea_bbb1_0242ac110020row18_col1\" class=\"data row18 col1\" >35</td> \n",
       "        <td id=\"T_b6f1a878_e0d2_11ea_bbb1_0242ac110020row18_col2\" class=\"data row18 col2\" >45</td> \n",
       "        <td id=\"T_b6f1a878_e0d2_11ea_bbb1_0242ac110020row18_col3\" class=\"data row18 col3\" >35</td> \n",
       "        <td id=\"T_b6f1a878_e0d2_11ea_bbb1_0242ac110020row18_col4\" class=\"data row18 col4\" >24</td> \n",
       "        <td id=\"T_b6f1a878_e0d2_11ea_bbb1_0242ac110020row18_col5\" class=\"data row18 col5\" >53</td> \n",
       "        <td id=\"T_b6f1a878_e0d2_11ea_bbb1_0242ac110020row18_col6\" class=\"data row18 col6\" >59</td> \n",
       "        <td id=\"T_b6f1a878_e0d2_11ea_bbb1_0242ac110020row18_col7\" class=\"data row18 col7\" >244</td> \n",
       "        <td id=\"T_b6f1a878_e0d2_11ea_bbb1_0242ac110020row18_col8\" class=\"data row18 col8\" >61</td> \n",
       "        <td id=\"T_b6f1a878_e0d2_11ea_bbb1_0242ac110020row18_col9\" class=\"data row18 col9\" >105</td> \n",
       "        <td id=\"T_b6f1a878_e0d2_11ea_bbb1_0242ac110020row18_col10\" class=\"data row18 col10\" >62</td> \n",
       "        <td id=\"T_b6f1a878_e0d2_11ea_bbb1_0242ac110020row18_col11\" class=\"data row18 col11\" >71</td> \n",
       "        <td id=\"T_b6f1a878_e0d2_11ea_bbb1_0242ac110020row18_col12\" class=\"data row18 col12\" >235</td> \n",
       "        <td id=\"T_b6f1a878_e0d2_11ea_bbb1_0242ac110020row18_col13\" class=\"data row18 col13\" >167</td> \n",
       "        <td id=\"T_b6f1a878_e0d2_11ea_bbb1_0242ac110020row18_col14\" class=\"data row18 col14\" >98</td> \n",
       "        <td id=\"T_b6f1a878_e0d2_11ea_bbb1_0242ac110020row18_col15\" class=\"data row18 col15\" >280</td> \n",
       "        <td id=\"T_b6f1a878_e0d2_11ea_bbb1_0242ac110020row18_col16\" class=\"data row18 col16\" >137</td> \n",
       "        <td id=\"T_b6f1a878_e0d2_11ea_bbb1_0242ac110020row18_col17\" class=\"data row18 col17\" >160</td> \n",
       "        <td id=\"T_b6f1a878_e0d2_11ea_bbb1_0242ac110020row18_col18\" class=\"data row18 col18\" >1814</td> \n",
       "        <td id=\"T_b6f1a878_e0d2_11ea_bbb1_0242ac110020row18_col19\" class=\"data row18 col19\" >499</td> \n",
       "    </tr>    <tr> \n",
       "        <th id=\"T_b6f1a878_e0d2_11ea_bbb1_0242ac110020level0_row19\" class=\"row_heading level0 row19\" >machine-learning</th> \n",
       "        <td id=\"T_b6f1a878_e0d2_11ea_bbb1_0242ac110020row19_col0\" class=\"data row19 col0\" >139</td> \n",
       "        <td id=\"T_b6f1a878_e0d2_11ea_bbb1_0242ac110020row19_col1\" class=\"data row19 col1\" >89</td> \n",
       "        <td id=\"T_b6f1a878_e0d2_11ea_bbb1_0242ac110020row19_col2\" class=\"data row19 col2\" >61</td> \n",
       "        <td id=\"T_b6f1a878_e0d2_11ea_bbb1_0242ac110020row19_col3\" class=\"data row19 col3\" >123</td> \n",
       "        <td id=\"T_b6f1a878_e0d2_11ea_bbb1_0242ac110020row19_col4\" class=\"data row19 col4\" >63</td> \n",
       "        <td id=\"T_b6f1a878_e0d2_11ea_bbb1_0242ac110020row19_col5\" class=\"data row19 col5\" >99</td> \n",
       "        <td id=\"T_b6f1a878_e0d2_11ea_bbb1_0242ac110020row19_col6\" class=\"data row19 col6\" >119</td> \n",
       "        <td id=\"T_b6f1a878_e0d2_11ea_bbb1_0242ac110020row19_col7\" class=\"data row19 col7\" >62</td> \n",
       "        <td id=\"T_b6f1a878_e0d2_11ea_bbb1_0242ac110020row19_col8\" class=\"data row19 col8\" >71</td> \n",
       "        <td id=\"T_b6f1a878_e0d2_11ea_bbb1_0242ac110020row19_col9\" class=\"data row19 col9\" >131</td> \n",
       "        <td id=\"T_b6f1a878_e0d2_11ea_bbb1_0242ac110020row19_col10\" class=\"data row19 col10\" >124</td> \n",
       "        <td id=\"T_b6f1a878_e0d2_11ea_bbb1_0242ac110020row19_col11\" class=\"data row19 col11\" >113</td> \n",
       "        <td id=\"T_b6f1a878_e0d2_11ea_bbb1_0242ac110020row19_col12\" class=\"data row19 col12\" >188</td> \n",
       "        <td id=\"T_b6f1a878_e0d2_11ea_bbb1_0242ac110020row19_col13\" class=\"data row19 col13\" >106</td> \n",
       "        <td id=\"T_b6f1a878_e0d2_11ea_bbb1_0242ac110020row19_col14\" class=\"data row19 col14\" >259</td> \n",
       "        <td id=\"T_b6f1a878_e0d2_11ea_bbb1_0242ac110020row19_col15\" class=\"data row19 col15\" >195</td> \n",
       "        <td id=\"T_b6f1a878_e0d2_11ea_bbb1_0242ac110020row19_col16\" class=\"data row19 col16\" >366</td> \n",
       "        <td id=\"T_b6f1a878_e0d2_11ea_bbb1_0242ac110020row19_col17\" class=\"data row19 col17\" >429</td> \n",
       "        <td id=\"T_b6f1a878_e0d2_11ea_bbb1_0242ac110020row19_col18\" class=\"data row19 col18\" >499</td> \n",
       "        <td id=\"T_b6f1a878_e0d2_11ea_bbb1_0242ac110020row19_col19\" class=\"data row19 col19\" >2693</td> \n",
       "    </tr></tbody> \n",
       "</table> "
      ],
      "text/plain": [
       "<pandas.io.formats.style.Styler at 0x7fb648b30518>"
      ]
     },
     "execution_count": 62,
     "metadata": {},
     "output_type": "execute_result"
    }
   ],
   "source": [
    "\n",
    "relations_most_used = associations.loc[most_used.index, most_used.index]\n",
    "\n",
    "def style_cells(x):\n",
    "    helper_df = pd.DataFrame('', index=x.index, columns=x.columns)\n",
    "    helper_df.loc[\"time-series\", \"r\"] = \"background-color: yellow\"\n",
    "    helper_df.loc[\"r\", \"time-series\"] = \"background-color: yellow\"\n",
    "    for k in range(helper_df.shape[0]):\n",
    "        helper_df.iloc[k,k] = \"color: blue\"\n",
    "    \n",
    "    return helper_df\n",
    "\n",
    "relations_most_used.style.apply(style_cells, axis=None)"
   ]
  },
  {
   "cell_type": "markdown",
   "metadata": {},
   "source": [
    "For a more visual understanding, let's create a heatmap."
   ]
  },
  {
   "cell_type": "code",
   "execution_count": 63,
   "metadata": {
    "collapsed": true
   },
   "outputs": [],
   "source": [
    "for i in range(relations_most_used.shape[0]):\n",
    "    relations_most_used.iloc[i,i] = pd.np.NaN"
   ]
  },
  {
   "cell_type": "code",
   "execution_count": 64,
   "metadata": {
    "collapsed": false
   },
   "outputs": [
    {
     "data": {
      "text/plain": [
       "<matplotlib.axes._subplots.AxesSubplot at 0x7fb648b28e80>"
      ]
     },
     "execution_count": 64,
     "metadata": {},
     "output_type": "execute_result"
    },
    {
     "data": {
      "image/png": "[encoded data removed]",
      "text/plain": [
       "<matplotlib.figure.Figure at 0x7fb648b28588>"
      ]
     },
     "metadata": {},
     "output_type": "display_data"
    }
   ],
   "source": [
    "\n",
    "plt.figure(figsize=(12,8))\n",
    "sns.heatmap(relations_most_used, cmap=\"Greens\", annot=False)"
   ]
  },
  {
   "cell_type": "markdown",
   "metadata": {},
   "source": [
    "Top 10 tags include python, machine_learning, deep-learning, neural-network, keras, tensorflow, classification, scikit_learn. Most of them are related to machine-learning, deep-learning, so we could already conclude that the most \"hot\" topic in our case is deep-learning."
   ]
  },
  {
   "cell_type": "markdown",
   "metadata": {},
   "source": [
    "# Track the interest in deep learning across time"
   ]
  },
  {
   "cell_type": "markdown",
   "metadata": {},
   "source": [
    "- Count how many deep learning questions are asked per period\n",
    "- Total amount of questions per time period\n",
    "- How many deep learning questions ther are relative to the total amount of questions per time period"
   ]
  },
  {
   "cell_type": "code",
   "execution_count": 67,
   "metadata": {
    "collapsed": false
   },
   "outputs": [],
   "source": [
    "all_questions = pd.read_csv(\"all_questions.csv\", parse_dates=[\"CreationDate\"])"
   ]
  },
  {
   "cell_type": "code",
   "execution_count": 68,
   "metadata": {
    "collapsed": true
   },
   "outputs": [],
   "source": [
    "all_questions[\"Tags\"] = all_questions[\"Tags\"].str.replace(\"^<|>$\", \"\").str.split(\"><\")"
   ]
  },
  {
   "cell_type": "markdown",
   "metadata": {},
   "source": [
    "We'll create a list of tags that we consider as part of the deep learning topic:\n",
    "[\"lstm\", \"cnn\", \"scikit-learn\", \"tensorflow\", \"keras\", \"neural-network\", \"deep-learning\"]\n",
    "\n",
    "And then, we build a function that assigns 1 to deep learning tags and 0 to others."
   ]
  },
  {
   "cell_type": "code",
   "execution_count": 69,
   "metadata": {
    "collapsed": true
   },
   "outputs": [],
   "source": [
    "def class_deep_learning(tags):\n",
    "    for tag in tags:\n",
    "        if tag in [\"lstm\", \"cnn\", \"scikit-learn\", \"tensorflow\",\n",
    "                   \"keras\", \"neural-network\", \"deep-learning\"]:\n",
    "            return 1\n",
    "    return 0"
   ]
  },
  {
   "cell_type": "code",
   "execution_count": 70,
   "metadata": {
    "collapsed": false
   },
   "outputs": [
    {
     "data": {
      "text/html": [
       "<div>\n",
       "<style scoped>\n",
       "    .dataframe tbody tr th:only-of-type {\n",
       "        vertical-align: middle;\n",
       "    }\n",
       "\n",
       "    .dataframe tbody tr th {\n",
       "        vertical-align: top;\n",
       "    }\n",
       "\n",
       "    .dataframe thead th {\n",
       "        text-align: right;\n",
       "    }\n",
       "</style>\n",
       "<table border=\"1\" class=\"dataframe\">\n",
       "  <thead>\n",
       "    <tr style=\"text-align: right;\">\n",
       "      <th></th>\n",
       "      <th>Id</th>\n",
       "      <th>CreationDate</th>\n",
       "      <th>Tags</th>\n",
       "      <th>DeepLearning</th>\n",
       "    </tr>\n",
       "  </thead>\n",
       "  <tbody>\n",
       "    <tr>\n",
       "      <th>1821</th>\n",
       "      <td>25268</td>\n",
       "      <td>2017-11-30 19:57:04</td>\n",
       "      <td>[machine-learning, python, visualization, pand...</td>\n",
       "      <td>0</td>\n",
       "    </tr>\n",
       "    <tr>\n",
       "      <th>3858</th>\n",
       "      <td>26180</td>\n",
       "      <td>2018-01-01 01:58:56</td>\n",
       "      <td>[loss-function]</td>\n",
       "      <td>0</td>\n",
       "    </tr>\n",
       "    <tr>\n",
       "      <th>17811</th>\n",
       "      <td>54112</td>\n",
       "      <td>2019-06-20 00:04:10</td>\n",
       "      <td>[machine-learning, data-cleaning, feature-engi...</td>\n",
       "      <td>0</td>\n",
       "    </tr>\n",
       "    <tr>\n",
       "      <th>9262</th>\n",
       "      <td>49498</td>\n",
       "      <td>2019-04-17 20:49:35</td>\n",
       "      <td>[python, gpu, kaggle, google, colab]</td>\n",
       "      <td>0</td>\n",
       "    </tr>\n",
       "    <tr>\n",
       "      <th>17026</th>\n",
       "      <td>45409</td>\n",
       "      <td>2019-02-11 20:37:03</td>\n",
       "      <td>[python, tensorflow, gradient-descent]</td>\n",
       "      <td>1</td>\n",
       "    </tr>\n",
       "  </tbody>\n",
       "</table>\n",
       "</div>"
      ],
      "text/plain": [
       "          Id        CreationDate  \\\n",
       "1821   25268 2017-11-30 19:57:04   \n",
       "3858   26180 2018-01-01 01:58:56   \n",
       "17811  54112 2019-06-20 00:04:10   \n",
       "9262   49498 2019-04-17 20:49:35   \n",
       "17026  45409 2019-02-11 20:37:03   \n",
       "\n",
       "                                                    Tags  DeepLearning  \n",
       "1821   [machine-learning, python, visualization, pand...             0  \n",
       "3858                                     [loss-function]             0  \n",
       "17811  [machine-learning, data-cleaning, feature-engi...             0  \n",
       "9262                [python, gpu, kaggle, google, colab]             0  \n",
       "17026             [python, tensorflow, gradient-descent]             1  "
      ]
     },
     "execution_count": 70,
     "metadata": {},
     "output_type": "execute_result"
    }
   ],
   "source": [
    "all_questions[\"DeepLearning\"] = all_questions[\"Tags\"].apply(class_deep_learning)\n",
    "all_questions.sample(5)\n"
   ]
  },
  {
   "cell_type": "markdown",
   "metadata": {},
   "source": [
    "# Create quarterly tracker\n",
    "We don't have enough data for 2020, so we will exclude that year."
   ]
  },
  {
   "cell_type": "code",
   "execution_count": 71,
   "metadata": {
    "collapsed": true
   },
   "outputs": [],
   "source": [
    "all_questions = all_questions[all_questions[\"CreationDate\"].dt.year < 2020]"
   ]
  },
  {
   "cell_type": "code",
   "execution_count": 72,
   "metadata": {
    "collapsed": true
   },
   "outputs": [],
   "source": [
    "def fetch_quarter(datetime):\n",
    "    year = str(datetime.year)[-2:]\n",
    "    quarter = str(((datetime.month-1) // 3) + 1)\n",
    "    return \"{y}Q{q}\".format(y=year, q=quarter)\n",
    "\n",
    "all_questions[\"Quarter\"] = all_questions[\"CreationDate\"].apply(fetch_quarter)"
   ]
  },
  {
   "cell_type": "code",
   "execution_count": 73,
   "metadata": {
    "collapsed": false
   },
   "outputs": [
    {
     "data": {
      "text/html": [
       "<div>\n",
       "<style scoped>\n",
       "    .dataframe tbody tr th:only-of-type {\n",
       "        vertical-align: middle;\n",
       "    }\n",
       "\n",
       "    .dataframe tbody tr th {\n",
       "        vertical-align: top;\n",
       "    }\n",
       "\n",
       "    .dataframe thead th {\n",
       "        text-align: right;\n",
       "    }\n",
       "</style>\n",
       "<table border=\"1\" class=\"dataframe\">\n",
       "  <thead>\n",
       "    <tr style=\"text-align: right;\">\n",
       "      <th></th>\n",
       "      <th>Id</th>\n",
       "      <th>CreationDate</th>\n",
       "      <th>Tags</th>\n",
       "      <th>DeepLearning</th>\n",
       "      <th>Quarter</th>\n",
       "    </tr>\n",
       "  </thead>\n",
       "  <tbody>\n",
       "    <tr>\n",
       "      <th>0</th>\n",
       "      <td>45416</td>\n",
       "      <td>2019-02-12 00:36:29</td>\n",
       "      <td>[python, keras, tensorflow, cnn, probability]</td>\n",
       "      <td>1</td>\n",
       "      <td>19Q1</td>\n",
       "    </tr>\n",
       "    <tr>\n",
       "      <th>1</th>\n",
       "      <td>45418</td>\n",
       "      <td>2019-02-12 00:50:39</td>\n",
       "      <td>[neural-network]</td>\n",
       "      <td>1</td>\n",
       "      <td>19Q1</td>\n",
       "    </tr>\n",
       "    <tr>\n",
       "      <th>2</th>\n",
       "      <td>45422</td>\n",
       "      <td>2019-02-12 04:40:51</td>\n",
       "      <td>[python, ibm-watson, chatbot]</td>\n",
       "      <td>0</td>\n",
       "      <td>19Q1</td>\n",
       "    </tr>\n",
       "    <tr>\n",
       "      <th>3</th>\n",
       "      <td>45426</td>\n",
       "      <td>2019-02-12 04:51:49</td>\n",
       "      <td>[keras]</td>\n",
       "      <td>1</td>\n",
       "      <td>19Q1</td>\n",
       "    </tr>\n",
       "    <tr>\n",
       "      <th>4</th>\n",
       "      <td>45427</td>\n",
       "      <td>2019-02-12 05:08:24</td>\n",
       "      <td>[r, predictive-modeling, machine-learning-mode...</td>\n",
       "      <td>0</td>\n",
       "      <td>19Q1</td>\n",
       "    </tr>\n",
       "  </tbody>\n",
       "</table>\n",
       "</div>"
      ],
      "text/plain": [
       "      Id        CreationDate  \\\n",
       "0  45416 2019-02-12 00:36:29   \n",
       "1  45418 2019-02-12 00:50:39   \n",
       "2  45422 2019-02-12 04:40:51   \n",
       "3  45426 2019-02-12 04:51:49   \n",
       "4  45427 2019-02-12 05:08:24   \n",
       "\n",
       "                                                Tags  DeepLearning Quarter  \n",
       "0      [python, keras, tensorflow, cnn, probability]             1    19Q1  \n",
       "1                                   [neural-network]             1    19Q1  \n",
       "2                      [python, ibm-watson, chatbot]             0    19Q1  \n",
       "3                                            [keras]             1    19Q1  \n",
       "4  [r, predictive-modeling, machine-learning-mode...             0    19Q1  "
      ]
     },
     "execution_count": 73,
     "metadata": {},
     "output_type": "execute_result"
    }
   ],
   "source": [
    "all_questions.head()"
   ]
  },
  {
   "cell_type": "markdown",
   "metadata": {},
   "source": [
    "Group by quarter, count the number of deep learning questions, total number of questions and the ratio."
   ]
  },
  {
   "cell_type": "code",
   "execution_count": 78,
   "metadata": {
    "collapsed": false
   },
   "outputs": [
    {
     "data": {
      "text/html": [
       "<div>\n",
       "<style scoped>\n",
       "    .dataframe tbody tr th:only-of-type {\n",
       "        vertical-align: middle;\n",
       "    }\n",
       "\n",
       "    .dataframe tbody tr th {\n",
       "        vertical-align: top;\n",
       "    }\n",
       "\n",
       "    .dataframe thead th {\n",
       "        text-align: right;\n",
       "    }\n",
       "</style>\n",
       "<table border=\"1\" class=\"dataframe\">\n",
       "  <thead>\n",
       "    <tr style=\"text-align: right;\">\n",
       "      <th></th>\n",
       "      <th>Quarter</th>\n",
       "      <th>DeepLearningQuestions</th>\n",
       "      <th>TotalQuestions</th>\n",
       "      <th>DeepLearningRate</th>\n",
       "    </tr>\n",
       "  </thead>\n",
       "  <tbody>\n",
       "    <tr>\n",
       "      <th>4</th>\n",
       "      <td>15Q2</td>\n",
       "      <td>28</td>\n",
       "      <td>284</td>\n",
       "      <td>0.098592</td>\n",
       "    </tr>\n",
       "    <tr>\n",
       "      <th>22</th>\n",
       "      <td>19Q4</td>\n",
       "      <td>809</td>\n",
       "      <td>2036</td>\n",
       "      <td>0.397348</td>\n",
       "    </tr>\n",
       "    <tr>\n",
       "      <th>2</th>\n",
       "      <td>14Q4</td>\n",
       "      <td>21</td>\n",
       "      <td>216</td>\n",
       "      <td>0.097222</td>\n",
       "    </tr>\n",
       "    <tr>\n",
       "      <th>19</th>\n",
       "      <td>19Q1</td>\n",
       "      <td>804</td>\n",
       "      <td>1987</td>\n",
       "      <td>0.404630</td>\n",
       "    </tr>\n",
       "    <tr>\n",
       "      <th>12</th>\n",
       "      <td>17Q2</td>\n",
       "      <td>226</td>\n",
       "      <td>647</td>\n",
       "      <td>0.349304</td>\n",
       "    </tr>\n",
       "  </tbody>\n",
       "</table>\n",
       "</div>"
      ],
      "text/plain": [
       "   Quarter  DeepLearningQuestions  TotalQuestions  DeepLearningRate\n",
       "4     15Q2                     28             284          0.098592\n",
       "22    19Q4                    809            2036          0.397348\n",
       "2     14Q4                     21             216          0.097222\n",
       "19    19Q1                    804            1987          0.404630\n",
       "12    17Q2                    226             647          0.349304"
      ]
     },
     "execution_count": 78,
     "metadata": {},
     "output_type": "execute_result"
    }
   ],
   "source": [
    "quarterly = all_questions.groupby('Quarter').agg({\"DeepLearning\": ['sum', 'size']})\n",
    "quarterly.columns = ['DeepLearningQuestions', 'TotalQuestions']\n",
    "quarterly[\"DeepLearningRate\"] = quarterly[\"DeepLearningQuestions\"]\\\n",
    "                                /quarterly[\"TotalQuestions\"]\n",
    "quarterly.reset_index(inplace=True)\n",
    "quarterly.sample(5)"
   ]
  },
  {
   "cell_type": "markdown",
   "metadata": {},
   "source": [
    "Let's make it more visual"
   ]
  },
  {
   "cell_type": "code",
   "execution_count": 79,
   "metadata": {
    "collapsed": false
   },
   "outputs": [
    {
     "data": {
      "image/png": "[encoded data removed]",
      "text/plain": [
       "<matplotlib.figure.Figure at 0x7fb648696f60>"
      ]
     },
     "metadata": {},
     "output_type": "display_data"
    }
   ],
   "source": [
    "\n",
    "ax1 = quarterly.plot(x=\"Quarter\", y=\"DeepLearningRate\",\n",
    "                    kind=\"line\", linestyle=\"-\", marker=\"o\", color=\"orange\",\n",
    "                    figsize=(24,12)\n",
    "                    )\n",
    "\n",
    "ax2 = quarterly.plot(x=\"Quarter\", y=\"TotalQuestions\",\n",
    "                     kind=\"bar\", ax=ax1, secondary_y=True, alpha=0.7, rot=45)\n",
    "\n",
    "for idx, t in quarterly[\"TotalQuestions\"].iteritems():\n",
    "    ax2.text(idx, t, str(t), ha=\"center\", va=\"bottom\")\n",
    "xlims = ax1.get_xlim()\n",
    "\n",
    "ax1.get_legend().remove()\n",
    "\n",
    "handles1, labels1 = ax1.get_legend_handles_labels()\n",
    "handles2, labels2 = ax2.get_legend_handles_labels()\n",
    "ax1.legend(handles=handles1 + handles2,\n",
    "           labels=labels1 + labels2,\n",
    "           loc=\"upper left\", prop={\"size\": 12})\n",
    "\n",
    "\n",
    "for ax in (ax1, ax2):\n",
    "    for where in (\"top\", \"right\"):\n",
    "        ax.spines[where].set_visible(False)\n",
    "        ax.tick_params(right=False, labelright=False)"
   ]
  },
  {
   "cell_type": "markdown",
   "metadata": {},
   "source": [
    "Deep learning was a very trending topic in the data science stack exchange from the begining. Even if it is not trending now, but it hit a plateau, it doesn't seem that the interest in the topic is decreasing.\n",
    "\n",
    "In conclusion, to answer the question we asked in the beginning: What is it that people want to learn about in data science? we could safely say that Deep Learning is a good topic to choose and recommend to the company to create content in the future."
   ]
  },
  {
   "cell_type": "code",
   "execution_count": null,
   "metadata": {
    "collapsed": true
   },
   "outputs": [],
   "source": []
  }
 ],
 "metadata": {
  "kernelspec": {
   "display_name": "Python 3",
   "language": "python",
   "name": "python3"
  },
  "language_info": {
   "codemirror_mode": {
    "name": "ipython",
    "version": 3
   },
   "file_extension": ".py",
   "mimetype": "text/x-python",
   "name": "python",
   "nbconvert_exporter": "python",
   "pygments_lexer": "ipython3",
   "version": "3.4.3"
  }
 },
 "nbformat": 4,
 "nbformat_minor": 2
}
